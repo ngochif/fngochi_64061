{
  "nbformat": 4,
  "nbformat_minor": 0,
  "metadata": {
    "colab": {
      "provenance": [],
      "authorship_tag": "ABX9TyMCtvQdCzcsSaPeuRsJV1zi",
      "include_colab_link": true
    },
    "kernelspec": {
      "name": "python3",
      "display_name": "Python 3"
    },
    "language_info": {
      "name": "python"
    }
  },
  "cells": [
    {
      "cell_type": "markdown",
      "metadata": {
        "id": "view-in-github",
        "colab_type": "text"
      },
      "source": [
        "<a href=\"https://colab.research.google.com/github/ngochif/fngochi_64061/blob/main/Assignment_4.ipynb\" target=\"_parent\"><img src=\"https://colab.research.google.com/assets/colab-badge.svg\" alt=\"Open In Colab\"/></a>"
      ]
    },
    {
      "cell_type": "markdown",
      "source": [
        "**Importing the IMDB Dataset**"
      ],
      "metadata": {
        "id": "EEK01tiEQbKD"
      }
    },
    {
      "cell_type": "code",
      "execution_count": null,
      "metadata": {
        "colab": {
          "base_uri": "https://localhost:8080/"
        },
        "id": "tsSh18qBELfK",
        "outputId": "0adeee73-f762-44ca-b96c-6921b32192f1"
      },
      "outputs": [
        {
          "output_type": "stream",
          "name": "stdout",
          "text": [
            "  % Total    % Received % Xferd  Average Speed   Time    Time     Time  Current\n",
            "                                 Dload  Upload   Total   Spent    Left  Speed\n",
            "100 80.2M  100 80.2M    0     0  21.2M      0  0:00:03  0:00:03 --:--:-- 21.2M\n"
          ]
        }
      ],
      "source": [
        "!curl -O https://ai.stanford.edu/~amaas/data/sentiment/aclImdb_v1.tar.gz\n",
        "!tar -xf aclImdb_v1.tar.gz"
      ]
    },
    {
      "cell_type": "code",
      "source": [
        "!rm -r aclImdb/train/unsup"
      ],
      "metadata": {
        "id": "KN_qYLzRET8E"
      },
      "execution_count": null,
      "outputs": []
    },
    {
      "cell_type": "code",
      "source": [
        "!cat aclImdb/train/pos/4077_10.txt"
      ],
      "metadata": {
        "colab": {
          "base_uri": "https://localhost:8080/"
        },
        "id": "-ZvxJyCQEfSN",
        "outputId": "8c470420-ef82-4668-9ff2-d30f07270100"
      },
      "execution_count": null,
      "outputs": [
        {
          "output_type": "stream",
          "name": "stdout",
          "text": [
            "I first saw this back in the early 90s on UK TV, i did like it then but i missed the chance to tape it, many years passed but the film always stuck with me and i lost hope of seeing it TV again, the main thing that stuck with me was the end, the hole castle part really touched me, its easy to watch, has a great story, great music, the list goes on and on, its OK me saying how good it is but everyone will take there own best bits away with them once they have seen it, yes the animation is top notch and beautiful to watch, it does show its age in a very few parts but that has now become part of it beauty, i am so glad it has came out on DVD as it is one of my top 10 films of all time. Buy it or rent it just see it, best viewing is at night alone with drink and food in reach so you don't have to stop the film.<br /><br />Enjoy"
          ]
        }
      ]
    },
    {
      "cell_type": "markdown",
      "source": [
        "**Data Preparation**"
      ],
      "metadata": {
        "id": "q-TYBJWba18-"
      }
    },
    {
      "cell_type": "code",
      "source": [
        "import os, pathlib, shutil, random\n",
        "\n",
        "\n",
        "base_dir = pathlib.Path(\"aclImdb\")\n",
        "val_dir = base_dir / \"val\"\n",
        "train_dir = base_dir / \"train\"\n",
        "for category in (\"neg\", \"pos\"):\n",
        "    if not os.path.exists(val_dir / category):\n",
        "        os.makedirs(val_dir / category)\n",
        "    files = os.listdir(train_dir / category)\n",
        "    random.Random(1337).shuffle(files)\n",
        "    num_val_samples = int(0.2 * len(files))\n",
        "    val_files = files[-num_val_samples:]\n",
        "    for fname in val_files:\n",
        "        shutil.move(train_dir / category / fname,\n",
        "                    val_dir / category / fname)"
      ],
      "metadata": {
        "id": "XsUh-RbkEkUT"
      },
      "execution_count": null,
      "outputs": []
    },
    {
      "cell_type": "code",
      "source": [
        "from tensorflow import keras\n",
        "batch_size = 32\n",
        "\n",
        "train_ds = keras.utils.text_dataset_from_directory(\n",
        "    \"aclImdb/train\", batch_size=batch_size\n",
        ")\n",
        "val_ds = keras.utils.text_dataset_from_directory(\n",
        "    \"aclImdb/val\", batch_size=batch_size\n",
        ")\n",
        "test_ds = keras.utils.text_dataset_from_directory(\n",
        "    \"aclImdb/test\", batch_size=batch_size\n",
        ")"
      ],
      "metadata": {
        "colab": {
          "base_uri": "https://localhost:8080/"
        },
        "id": "h6UmOrwmEnsF",
        "outputId": "c3f7c030-5c74-434a-8759-438d052a0e6d"
      },
      "execution_count": null,
      "outputs": [
        {
          "output_type": "stream",
          "name": "stdout",
          "text": [
            "Found 14400 files belonging to 2 classes.\n",
            "Found 10600 files belonging to 2 classes.\n",
            "Found 25000 files belonging to 2 classes.\n"
          ]
        }
      ]
    },
    {
      "cell_type": "markdown",
      "source": [
        "**Training the IMDB Example with new specifications**"
      ],
      "metadata": {
        "id": "aImUuh-4FwzD"
      }
    },
    {
      "cell_type": "markdown",
      "source": [
        "Defining the parameters for the new requirements"
      ],
      "metadata": {
        "id": "CUZ_YWiXW5sx"
      }
    },
    {
      "cell_type": "code",
      "source": [
        "max_features = 10000  # Consider only the top 10,000 words\n",
        "sequence_length = 150  # Cutoff reviews after 150 words\n",
        "training_samples = 100  # Number of training samples\n",
        "validation_samples = 10000  # Number of validation samples\n",
        "batch_size = 25  # Batch size for training"
      ],
      "metadata": {
        "id": "PzKe5RipGXZD"
      },
      "execution_count": null,
      "outputs": []
    },
    {
      "cell_type": "markdown",
      "source": [
        "Preparing the integer sequence datasets according to new requirements\n",
        "\n"
      ],
      "metadata": {
        "id": "xVv_3NOEbQ_X"
      }
    },
    {
      "cell_type": "code",
      "source": [
        "import tensorflow as tf\n",
        "from tensorflow.keras.layers import TextVectorization, Embedding, GlobalAveragePooling1D, Dense\n",
        "from tensorflow.keras.models import Sequential\n",
        "\n",
        "# Load datasets\n",
        "raw_train_ds = tf.keras.utils.text_dataset_from_directory(\n",
        "    \"aclImdb/train\",\n",
        "    batch_size=batch_size,\n",
        "    shuffle=True\n",
        ")\n",
        "raw_val_ds = tf.keras.utils.text_dataset_from_directory(\n",
        "    \"aclImdb/val\",\n",
        "    batch_size=batch_size,\n",
        "    shuffle=True\n",
        ")\n",
        "raw_test_ds = tf.keras.utils.text_dataset_from_directory(\n",
        "    \"aclImdb/test\",\n",
        "    batch_size=batch_size\n",
        ")"
      ],
      "metadata": {
        "colab": {
          "base_uri": "https://localhost:8080/"
        },
        "id": "_gaayWoAGhAo",
        "outputId": "ab435e35-508a-455e-8113-77b21e60ae0a"
      },
      "execution_count": null,
      "outputs": [
        {
          "output_type": "stream",
          "name": "stdout",
          "text": [
            "Found 14400 files belonging to 2 classes.\n",
            "Found 10600 files belonging to 2 classes.\n",
            "Found 25000 files belonging to 2 classes.\n"
          ]
        }
      ]
    },
    {
      "cell_type": "code",
      "source": [
        "# Limit the dataset to an exact number of samples\n",
        "def limit_dataset(ds, num_samples):\n",
        "    return ds.unbatch().take(num_samples).batch(batch_size)\n",
        "\n",
        "# Apply the limiting function\n",
        "train_ds = limit_dataset(raw_train_ds, training_samples)\n",
        "val_ds = limit_dataset(raw_val_ds, validation_samples)\n",
        "test_ds = raw_test_ds\n",
        "# Text Vectorization\n",
        "text_vectorization = TextVectorization(\n",
        "    max_tokens=max_features,\n",
        "    output_sequence_length=sequence_length\n",
        ")\n",
        "train_text = train_ds.map(lambda x, y: x)\n",
        "text_vectorization.adapt(train_text)"
      ],
      "metadata": {
        "id": "sKCuxViBTyy6"
      },
      "execution_count": null,
      "outputs": []
    },
    {
      "cell_type": "code",
      "source": [
        "# Slice the datasets\n",
        "train_ds = raw_train_ds.take(training_samples // batch_size)\n",
        "val_ds = raw_val_ds.take(validation_samples // batch_size)\n",
        "test_ds = raw_test_ds\n",
        "\n",
        "# Text Vectorization\n",
        "text_vectorization = TextVectorization(\n",
        "    max_tokens=max_features,\n",
        "    output_sequence_length=sequence_length\n",
        ")\n",
        "train_text = train_ds.map(lambda x, y: x)\n",
        "text_vectorization.adapt(train_text)"
      ],
      "metadata": {
        "id": "iUJksN5HG0Ou"
      },
      "execution_count": null,
      "outputs": []
    },
    {
      "cell_type": "code",
      "source": [
        "def calculate_dataset_size(dataset):\n",
        "    size = 0\n",
        "    for batch in dataset:\n",
        "        size += tf.shape(batch[0])[0]  # count the number of items in the batch\n",
        "    return size\n",
        "\n",
        "# Calculate the sizes\n",
        "train_size = calculate_dataset_size(train_ds)\n",
        "val_size = calculate_dataset_size(val_ds)\n",
        "test_size = calculate_dataset_size(test_ds)\n",
        "\n",
        "# Print the sizes\n",
        "print(f\"Training Dataset Size: {train_size}\")\n",
        "print(f\"Validation Dataset Size: {val_size}\")\n",
        "print(f\"Test Dataset Size: {test_size}\")"
      ],
      "metadata": {
        "colab": {
          "base_uri": "https://localhost:8080/"
        },
        "id": "koXiG4-PSefn",
        "outputId": "89b8d4ba-34cb-4939-b79b-8ebbdfeb00f3"
      },
      "execution_count": null,
      "outputs": [
        {
          "output_type": "stream",
          "name": "stdout",
          "text": [
            "Training Dataset Size: 100\n",
            "Validation Dataset Size: 10000\n",
            "Test Dataset Size: 25000\n"
          ]
        }
      ]
    },
    {
      "cell_type": "code",
      "source": [
        "# Vectorize the datasets\n",
        "train_ds = train_ds.map(lambda x, y: (text_vectorization(x), y))\n",
        "val_ds = val_ds.map(lambda x, y: (text_vectorization(x), y))\n",
        "test_ds = raw_test_ds.map(lambda x, y: (text_vectorization(x), y))"
      ],
      "metadata": {
        "id": "i1EmQMCwHZwA"
      },
      "execution_count": null,
      "outputs": []
    },
    {
      "cell_type": "markdown",
      "source": [
        "Training a Model that uses an Embedding layer trained from scratch"
      ],
      "metadata": {
        "id": "v6uVh3nG_-o4"
      }
    },
    {
      "cell_type": "code",
      "source": [
        "from tensorflow.keras import layers\n",
        "inputs = keras.Input(shape=(None,), dtype=\"int64\")\n",
        "embedded = layers.Embedding(input_dim=max_features, output_dim=256)(inputs)\n",
        "x = layers.Bidirectional(layers.LSTM(32))(embedded)\n",
        "x = layers.Dropout(0.5)(x)\n",
        "outputs = layers.Dense(1, activation=\"sigmoid\")(x)\n",
        "model = keras.Model(inputs, outputs)\n",
        "model.compile(optimizer=\"rmsprop\",\n",
        "              loss=\"binary_crossentropy\",\n",
        "              metrics=[\"accuracy\"])\n",
        "model.summary()\n",
        "\n",
        "callbacks = [\n",
        "    keras.callbacks.ModelCheckpoint(\"embeddings_bidir_gru.keras\",\n",
        "                                    save_best_only=True)\n",
        "]\n",
        "model.fit(train_ds, validation_data=val_ds, epochs=10, callbacks=callbacks)\n",
        "model = keras.models.load_model(\"embeddings_bidir_gru.keras\")\n",
        "print(f\"Test acc: {model.evaluate(test_ds)[1]:.3f}\")"
      ],
      "metadata": {
        "colab": {
          "base_uri": "https://localhost:8080/"
        },
        "id": "PTdmafg5jf9p",
        "outputId": "3bf22787-0a78-4f80-d907-4db851135f73"
      },
      "execution_count": null,
      "outputs": [
        {
          "output_type": "stream",
          "name": "stdout",
          "text": [
            "Model: \"model_5\"\n",
            "_________________________________________________________________\n",
            " Layer (type)                Output Shape              Param #   \n",
            "=================================================================\n",
            " input_12 (InputLayer)       [(None, None)]            0         \n",
            "                                                                 \n",
            " embedding_10 (Embedding)    (None, None, 256)         2560000   \n",
            "                                                                 \n",
            " bidirectional_5 (Bidirecti  (None, 64)                73984     \n",
            " onal)                                                           \n",
            "                                                                 \n",
            " dropout_5 (Dropout)         (None, 64)                0         \n",
            "                                                                 \n",
            " dense_6 (Dense)             (None, 1)                 65        \n",
            "                                                                 \n",
            "=================================================================\n",
            "Total params: 2634049 (10.05 MB)\n",
            "Trainable params: 2634049 (10.05 MB)\n",
            "Non-trainable params: 0 (0.00 Byte)\n",
            "_________________________________________________________________\n",
            "Epoch 1/10\n",
            "4/4 [==============================] - 25s 6s/step - loss: 0.6943 - accuracy: 0.5300 - val_loss: 0.6928 - val_accuracy: 0.5030\n",
            "Epoch 2/10\n",
            "4/4 [==============================] - 42s 14s/step - loss: 0.6811 - accuracy: 0.6400 - val_loss: 0.6936 - val_accuracy: 0.5017\n",
            "Epoch 3/10\n",
            "4/4 [==============================] - 22s 7s/step - loss: 0.6790 - accuracy: 0.6200 - val_loss: 0.6938 - val_accuracy: 0.5025\n",
            "Epoch 4/10\n",
            "4/4 [==============================] - 22s 7s/step - loss: 0.6669 - accuracy: 0.7000 - val_loss: 0.6945 - val_accuracy: 0.5045\n",
            "Epoch 5/10\n",
            "4/4 [==============================] - 23s 8s/step - loss: 0.6567 - accuracy: 0.6000 - val_loss: 0.6951 - val_accuracy: 0.5070\n",
            "Epoch 6/10\n",
            "4/4 [==============================] - 21s 7s/step - loss: 0.6570 - accuracy: 0.6000 - val_loss: 0.6963 - val_accuracy: 0.5067\n",
            "Epoch 7/10\n",
            "4/4 [==============================] - 22s 7s/step - loss: 0.6265 - accuracy: 0.7100 - val_loss: 0.7010 - val_accuracy: 0.5077\n",
            "Epoch 8/10\n",
            "4/4 [==============================] - 22s 7s/step - loss: 0.6289 - accuracy: 0.6900 - val_loss: 0.7044 - val_accuracy: 0.5160\n",
            "Epoch 9/10\n",
            "4/4 [==============================] - 21s 7s/step - loss: 0.5983 - accuracy: 0.7200 - val_loss: 0.7114 - val_accuracy: 0.5162\n",
            "Epoch 10/10\n",
            "4/4 [==============================] - 42s 14s/step - loss: 0.6137 - accuracy: 0.7200 - val_loss: 0.7072 - val_accuracy: 0.5206\n",
            "1000/1000 [==============================] - 50s 47ms/step - loss: 0.6932 - accuracy: 0.4979\n",
            "Test acc: 0.498\n"
          ]
        }
      ]
    },
    {
      "cell_type": "markdown",
      "source": [
        "Training a Model Using GLOVE Pretrained Embedding"
      ],
      "metadata": {
        "id": "2Y31U8wVIF6Y"
      }
    },
    {
      "cell_type": "code",
      "source": [
        "!wget http://nlp.stanford.edu/data/glove.6B.zip\n",
        "!unzip -q glove.6B.zip"
      ],
      "metadata": {
        "id": "mxOtRycAIIVh",
        "colab": {
          "base_uri": "https://localhost:8080/"
        },
        "outputId": "62ee5752-6928-4234-c753-d2e384af5ce0"
      },
      "execution_count": null,
      "outputs": [
        {
          "output_type": "stream",
          "name": "stdout",
          "text": [
            "--2024-04-26 11:40:16--  http://nlp.stanford.edu/data/glove.6B.zip\n",
            "Resolving nlp.stanford.edu (nlp.stanford.edu)... 171.64.67.140\n",
            "Connecting to nlp.stanford.edu (nlp.stanford.edu)|171.64.67.140|:80... connected.\n",
            "HTTP request sent, awaiting response... 302 Found\n",
            "Location: https://nlp.stanford.edu/data/glove.6B.zip [following]\n",
            "--2024-04-26 11:40:49--  https://nlp.stanford.edu/data/glove.6B.zip\n",
            "Connecting to nlp.stanford.edu (nlp.stanford.edu)|171.64.67.140|:443... connected.\n",
            "HTTP request sent, awaiting response... 301 Moved Permanently\n",
            "Location: https://downloads.cs.stanford.edu/nlp/data/glove.6B.zip [following]\n",
            "--2024-04-26 11:45:04--  https://downloads.cs.stanford.edu/nlp/data/glove.6B.zip\n",
            "Resolving downloads.cs.stanford.edu (downloads.cs.stanford.edu)... 171.64.64.22\n",
            "Connecting to downloads.cs.stanford.edu (downloads.cs.stanford.edu)|171.64.64.22|:443... connected.\n",
            "HTTP request sent, awaiting response... 200 OK\n",
            "Length: 862182613 (822M) [application/zip]\n",
            "Saving to: ‘glove.6B.zip’\n",
            "\n",
            "glove.6B.zip        100%[===================>] 822.24M  5.01MB/s    in 2m 39s  \n",
            "\n",
            "2024-04-26 11:47:43 (5.17 MB/s) - ‘glove.6B.zip’ saved [862182613/862182613]\n",
            "\n"
          ]
        }
      ]
    },
    {
      "cell_type": "markdown",
      "source": [
        "Parsing the GloVe word-embeddings file"
      ],
      "metadata": {
        "id": "-bgTpOZ-I3yy"
      }
    },
    {
      "cell_type": "code",
      "source": [
        "import numpy as np\n",
        "path_to_glove_file = \"glove.6B.100d.txt\"\n",
        "\n",
        "embeddings_index = {}\n",
        "with open(path_to_glove_file) as f:\n",
        "    for line in f:\n",
        "        word, coefs = line.split(maxsplit=1)\n",
        "        coefs = np.fromstring(coefs, \"f\", sep=\" \")\n",
        "        embeddings_index[word] = coefs\n",
        "\n",
        "print(f\"Found {len(embeddings_index)} word vectors.\")"
      ],
      "metadata": {
        "colab": {
          "base_uri": "https://localhost:8080/"
        },
        "id": "EtWCpZslI9am",
        "outputId": "c319b105-a00e-4b44-ce9b-2f0251a3cafc"
      },
      "execution_count": null,
      "outputs": [
        {
          "output_type": "stream",
          "name": "stdout",
          "text": [
            "Found 400000 word vectors.\n"
          ]
        }
      ]
    },
    {
      "cell_type": "code",
      "source": [
        "embedding_dim = 100\n",
        "\n",
        "vocabulary = text_vectorization.get_vocabulary()\n",
        "word_index = dict(zip(vocabulary, range(len(vocabulary))))\n",
        "\n",
        "embedding_matrix = np.zeros((max_features, embedding_dim))\n",
        "for word, i in word_index.items():\n",
        "    if i < max_features:\n",
        "        embedding_vector = embeddings_index.get(word)\n",
        "    if embedding_vector is not None:\n",
        "        embedding_matrix[i] = embedding_vector"
      ],
      "metadata": {
        "id": "D78fTwbdMDTY"
      },
      "execution_count": null,
      "outputs": []
    },
    {
      "cell_type": "code",
      "source": [
        "embedding_layer = layers.Embedding(\n",
        "    max_features,\n",
        "    embedding_dim,\n",
        "    embeddings_initializer=keras.initializers.Constant(embedding_matrix),\n",
        "    trainable=False,\n",
        "    mask_zero=True,\n",
        ")"
      ],
      "metadata": {
        "id": "418VQFvqNBOP"
      },
      "execution_count": null,
      "outputs": []
    },
    {
      "cell_type": "markdown",
      "source": [
        "\n",
        "Preparing the GloVe word-embeddings matrix"
      ],
      "metadata": {
        "id": "Ad3S7wEwBUF2"
      }
    },
    {
      "cell_type": "code",
      "source": [
        "inputs = keras.Input(shape=(None,), dtype=\"int64\")\n",
        "embedded = embedding_layer(inputs)\n",
        "x = layers.Bidirectional(layers.LSTM(32))(embedded)\n",
        "x = layers.Dropout(0.5)(x)\n",
        "outputs = layers.Dense(1, activation=\"sigmoid\")(x)\n",
        "model = keras.Model(inputs, outputs)\n",
        "model.compile(optimizer=\"rmsprop\",\n",
        "              loss=\"binary_crossentropy\",\n",
        "              metrics=[\"accuracy\"])\n",
        "model.summary()\n",
        "\n",
        "callbacks = [\n",
        "    keras.callbacks.ModelCheckpoint(\"glove_embeddings_sequence_model.keras\",\n",
        "                                    save_best_only=True)\n",
        "]\n",
        "model.fit(train_ds, validation_data=val_ds, epochs=10, callbacks=callbacks)\n",
        "model = keras.models.load_model(\"glove_embeddings_sequence_model.keras\")\n",
        "print(f\"Test acc: {model.evaluate(test_ds)[1]:.3f}\")"
      ],
      "metadata": {
        "colab": {
          "base_uri": "https://localhost:8080/"
        },
        "id": "SAX_1VEVBXml",
        "outputId": "3a277fcf-2ce3-4d3c-e567-e34f6144dc35"
      },
      "execution_count": null,
      "outputs": [
        {
          "output_type": "stream",
          "name": "stdout",
          "text": [
            "Model: \"model_6\"\n",
            "_________________________________________________________________\n",
            " Layer (type)                Output Shape              Param #   \n",
            "=================================================================\n",
            " input_13 (InputLayer)       [(None, None)]            0         \n",
            "                                                                 \n",
            " embedding_9 (Embedding)     (None, None, 100)         1000000   \n",
            "                                                                 \n",
            " bidirectional_6 (Bidirecti  (None, 64)                34048     \n",
            " onal)                                                           \n",
            "                                                                 \n",
            " dropout_6 (Dropout)         (None, 64)                0         \n",
            "                                                                 \n",
            " dense_7 (Dense)             (None, 1)                 65        \n",
            "                                                                 \n",
            "=================================================================\n",
            "Total params: 1034113 (3.94 MB)\n",
            "Trainable params: 34113 (133.25 KB)\n",
            "Non-trainable params: 1000000 (3.81 MB)\n",
            "_________________________________________________________________\n",
            "Epoch 1/10\n",
            "4/4 [==============================] - 52s 13s/step - loss: 0.7216 - accuracy: 0.4700 - val_loss: 0.6952 - val_accuracy: 0.5078\n",
            "Epoch 2/10\n",
            "4/4 [==============================] - 21s 7s/step - loss: 0.7040 - accuracy: 0.5000 - val_loss: 0.7143 - val_accuracy: 0.5013\n",
            "Epoch 3/10\n",
            "4/4 [==============================] - 22s 7s/step - loss: 0.6741 - accuracy: 0.5300 - val_loss: 0.6995 - val_accuracy: 0.5023\n",
            "Epoch 4/10\n",
            "4/4 [==============================] - 17s 5s/step - loss: 0.6817 - accuracy: 0.5900 - val_loss: 0.6954 - val_accuracy: 0.5046\n",
            "Epoch 5/10\n",
            "4/4 [==============================] - 32s 11s/step - loss: 0.6761 - accuracy: 0.5900 - val_loss: 0.6939 - val_accuracy: 0.5109\n",
            "Epoch 6/10\n",
            "4/4 [==============================] - 34s 11s/step - loss: 0.6970 - accuracy: 0.5300 - val_loss: 0.6936 - val_accuracy: 0.5101\n",
            "Epoch 7/10\n",
            "4/4 [==============================] - 22s 7s/step - loss: 0.6699 - accuracy: 0.6200 - val_loss: 0.6948 - val_accuracy: 0.5051\n",
            "Epoch 8/10\n",
            "4/4 [==============================] - 18s 6s/step - loss: 0.6834 - accuracy: 0.5900 - val_loss: 0.7056 - val_accuracy: 0.5028\n",
            "Epoch 9/10\n",
            "4/4 [==============================] - 22s 7s/step - loss: 0.6527 - accuracy: 0.6500 - val_loss: 0.7008 - val_accuracy: 0.5025\n",
            "Epoch 10/10\n",
            "4/4 [==============================] - 17s 6s/step - loss: 0.6502 - accuracy: 0.6600 - val_loss: 0.6947 - val_accuracy: 0.5088\n",
            "1000/1000 [==============================] - 50s 44ms/step - loss: 0.6938 - accuracy: 0.5089\n",
            "Test acc: 0.509\n"
          ]
        }
      ]
    },
    {
      "cell_type": "markdown",
      "source": [
        "**Training on 125 Samples**"
      ],
      "metadata": {
        "id": "YjXBmL6AYujw"
      }
    },
    {
      "cell_type": "markdown",
      "source": [
        "Data Preparation"
      ],
      "metadata": {
        "id": "ESkrcX_7FCTM"
      }
    },
    {
      "cell_type": "code",
      "source": [
        "max_features = 10000  # Consider only the top 10,000 words\n",
        "sequence_length = 150  # Cutoff reviews after 150 words\n",
        "training_samples = 125  # Number of training samples\n",
        "validation_samples = 10000  # Number of validation samples\n",
        "batch_size = 25  # Batch size for training"
      ],
      "metadata": {
        "id": "x36OLmIFVNVe"
      },
      "execution_count": 58,
      "outputs": []
    },
    {
      "cell_type": "code",
      "source": [
        "# Limit the dataset to an exact number of samples\n",
        "def limit_dataset(ds, num_samples):\n",
        "    return ds.unbatch().take(num_samples).batch(batch_size)\n",
        "\n",
        "# Apply the limiting function\n",
        "train_ds = limit_dataset(raw_train_ds, training_samples)\n",
        "val_ds = limit_dataset(raw_val_ds, validation_samples)\n",
        "test_ds = raw_test_ds\n",
        "# Text Vectorization\n",
        "text_vectorization = TextVectorization(\n",
        "    max_tokens=max_features,\n",
        "    output_sequence_length=sequence_length\n",
        ")\n",
        "train_text = train_ds.map(lambda x, y: x)\n",
        "text_vectorization.adapt(train_text)"
      ],
      "metadata": {
        "id": "nNhAKrfXVaOI"
      },
      "execution_count": 59,
      "outputs": []
    },
    {
      "cell_type": "code",
      "source": [
        "# Slice the datasets\n",
        "train_ds = raw_train_ds.take(training_samples // batch_size)\n",
        "val_ds = raw_val_ds.take(validation_samples // batch_size)\n",
        "test_ds = raw_test_ds\n",
        "\n",
        "# Text Vectorization\n",
        "text_vectorization = TextVectorization(\n",
        "    max_tokens=max_features,\n",
        "    output_sequence_length=sequence_length\n",
        ")\n",
        "train_text = train_ds.map(lambda x, y: x)\n",
        "text_vectorization.adapt(train_text)"
      ],
      "metadata": {
        "id": "58ZSzwscVfhR"
      },
      "execution_count": 60,
      "outputs": []
    },
    {
      "cell_type": "code",
      "source": [
        "# Vectorize the datasets\n",
        "train_ds = train_ds.map(lambda x, y: (text_vectorization(x), y))\n",
        "val_ds = val_ds.map(lambda x, y: (text_vectorization(x), y))\n",
        "test_ds = raw_test_ds.map(lambda x, y: (text_vectorization(x), y))"
      ],
      "metadata": {
        "id": "cnamIGCaVjCf"
      },
      "execution_count": 61,
      "outputs": []
    },
    {
      "cell_type": "markdown",
      "source": [
        "Train on 125 samples with layer from scratch"
      ],
      "metadata": {
        "id": "A4FiWaovVp57"
      }
    },
    {
      "cell_type": "code",
      "source": [
        "from tensorflow.keras import layers\n",
        "inputs = keras.Input(shape=(None,), dtype=\"int64\")\n",
        "embedded = layers.Embedding(input_dim=max_features, output_dim=256)(inputs)\n",
        "x = layers.Bidirectional(layers.LSTM(32))(embedded)\n",
        "x = layers.Dropout(0.5)(x)\n",
        "outputs = layers.Dense(1, activation=\"sigmoid\")(x)\n",
        "model = keras.Model(inputs, outputs)\n",
        "model.compile(optimizer=\"rmsprop\",\n",
        "              loss=\"binary_crossentropy\",\n",
        "              metrics=[\"accuracy\"])\n",
        "model.summary()\n",
        "\n",
        "callbacks = [\n",
        "    keras.callbacks.ModelCheckpoint(\"embeddings_bidir_gru.keras\",\n",
        "                                    save_best_only=True)\n",
        "]\n",
        "model.fit(train_ds, validation_data=val_ds, epochs=10, callbacks=callbacks)\n",
        "model = keras.models.load_model(\"embeddings_bidir_gru.keras\")\n",
        "print(f\"Test acc: {model.evaluate(test_ds)[1]:.3f}\")"
      ],
      "metadata": {
        "colab": {
          "base_uri": "https://localhost:8080/"
        },
        "id": "rxJEh_9gVsd_",
        "outputId": "5e7f0a7c-8bf7-43f3-b7f7-b06307c35a03"
      },
      "execution_count": 62,
      "outputs": [
        {
          "output_type": "stream",
          "name": "stdout",
          "text": [
            "Model: \"model_10\"\n",
            "_________________________________________________________________\n",
            " Layer (type)                Output Shape              Param #   \n",
            "=================================================================\n",
            " input_11 (InputLayer)       [(None, None)]            0         \n",
            "                                                                 \n",
            " embedding_6 (Embedding)     (None, None, 256)         2560000   \n",
            "                                                                 \n",
            " bidirectional_10 (Bidirect  (None, 64)                73984     \n",
            " ional)                                                          \n",
            "                                                                 \n",
            " dropout_10 (Dropout)        (None, 64)                0         \n",
            "                                                                 \n",
            " dense_10 (Dense)            (None, 1)                 65        \n",
            "                                                                 \n",
            "=================================================================\n",
            "Total params: 2634049 (10.05 MB)\n",
            "Trainable params: 2634049 (10.05 MB)\n",
            "Non-trainable params: 0 (0.00 Byte)\n",
            "_________________________________________________________________\n",
            "Epoch 1/10\n",
            "5/5 [==============================] - 49s 11s/step - loss: 0.6918 - accuracy: 0.6000 - val_loss: 0.6989 - val_accuracy: 0.4360\n",
            "Epoch 2/10\n",
            "5/5 [==============================] - 22s 5s/step - loss: 0.6873 - accuracy: 0.5760 - val_loss: 0.7079 - val_accuracy: 0.4243\n",
            "Epoch 3/10\n",
            "5/5 [==============================] - 22s 5s/step - loss: 0.6761 - accuracy: 0.5840 - val_loss: 0.7139 - val_accuracy: 0.4246\n",
            "Epoch 4/10\n",
            "5/5 [==============================] - 42s 10s/step - loss: 0.6457 - accuracy: 0.6720 - val_loss: 0.7510 - val_accuracy: 0.4239\n",
            "Epoch 5/10\n",
            "5/5 [==============================] - 22s 5s/step - loss: 0.6604 - accuracy: 0.5920 - val_loss: 0.7423 - val_accuracy: 0.4253\n",
            "Epoch 6/10\n",
            "5/5 [==============================] - 21s 5s/step - loss: 0.6854 - accuracy: 0.5360 - val_loss: 0.7222 - val_accuracy: 0.4249\n",
            "Epoch 7/10\n",
            "5/5 [==============================] - 22s 5s/step - loss: 0.6509 - accuracy: 0.5840 - val_loss: 0.7188 - val_accuracy: 0.4244\n",
            "Epoch 8/10\n",
            "5/5 [==============================] - 21s 5s/step - loss: 0.6406 - accuracy: 0.6240 - val_loss: 0.7238 - val_accuracy: 0.4260\n",
            "Epoch 9/10\n",
            "5/5 [==============================] - 21s 5s/step - loss: 0.6397 - accuracy: 0.5920 - val_loss: 0.7105 - val_accuracy: 0.4406\n",
            "Epoch 10/10\n",
            "5/5 [==============================] - 22s 5s/step - loss: 0.6081 - accuracy: 0.6880 - val_loss: 0.7078 - val_accuracy: 0.4758\n",
            "1000/1000 [==============================] - 50s 47ms/step - loss: 0.6940 - accuracy: 0.5016\n",
            "Test acc: 0.502\n"
          ]
        }
      ]
    },
    {
      "cell_type": "markdown",
      "source": [
        "Using GloVe pretrained embedding layer with 125 samples"
      ],
      "metadata": {
        "id": "H_RqCPPlXSAk"
      }
    },
    {
      "cell_type": "code",
      "source": [
        "inputs = keras.Input(shape=(None,), dtype=\"int64\")\n",
        "embedded = embedding_layer(inputs)\n",
        "x = layers.Bidirectional(layers.LSTM(32))(embedded)\n",
        "x = layers.Dropout(0.5)(x)\n",
        "outputs = layers.Dense(1, activation=\"sigmoid\")(x)\n",
        "model = keras.Model(inputs, outputs)\n",
        "model.compile(optimizer=\"rmsprop\",\n",
        "              loss=\"binary_crossentropy\",\n",
        "              metrics=[\"accuracy\"])\n",
        "model.summary()\n",
        "\n",
        "callbacks = [\n",
        "    keras.callbacks.ModelCheckpoint(\"glove_embeddings_sequence_model.keras\",\n",
        "                                    save_best_only=True)\n",
        "]\n",
        "model.fit(train_ds, validation_data=val_ds, epochs=10, callbacks=callbacks)\n",
        "model = keras.models.load_model(\"glove_embeddings_sequence_model.keras\")\n",
        "print(f\"Test acc: {model.evaluate(test_ds)[1]:.3f}\")"
      ],
      "metadata": {
        "colab": {
          "base_uri": "https://localhost:8080/"
        },
        "id": "B2TLrsU9XWnZ",
        "outputId": "bc637d08-fed4-4df0-e8dd-f1ee4ac08929"
      },
      "execution_count": 63,
      "outputs": [
        {
          "output_type": "stream",
          "name": "stdout",
          "text": [
            "Model: \"model_11\"\n",
            "_________________________________________________________________\n",
            " Layer (type)                Output Shape              Param #   \n",
            "=================================================================\n",
            " input_12 (InputLayer)       [(None, None)]            0         \n",
            "                                                                 \n",
            " embedding_1 (Embedding)     (None, None, 100)         1000000   \n",
            "                                                                 \n",
            " bidirectional_11 (Bidirect  (None, 64)                34048     \n",
            " ional)                                                          \n",
            "                                                                 \n",
            " dropout_11 (Dropout)        (None, 64)                0         \n",
            "                                                                 \n",
            " dense_11 (Dense)            (None, 1)                 65        \n",
            "                                                                 \n",
            "=================================================================\n",
            "Total params: 1034113 (3.94 MB)\n",
            "Trainable params: 34113 (133.25 KB)\n",
            "Non-trainable params: 1000000 (3.81 MB)\n",
            "_________________________________________________________________\n",
            "Epoch 1/10\n",
            "5/5 [==============================] - 49s 10s/step - loss: 0.7140 - accuracy: 0.5520 - val_loss: 0.7513 - val_accuracy: 0.4249\n",
            "Epoch 2/10\n",
            "5/5 [==============================] - 22s 5s/step - loss: 0.6804 - accuracy: 0.6080 - val_loss: 0.7576 - val_accuracy: 0.4260\n",
            "Epoch 3/10\n",
            "5/5 [==============================] - 21s 5s/step - loss: 0.6852 - accuracy: 0.5600 - val_loss: 0.7862 - val_accuracy: 0.4245\n",
            "Epoch 4/10\n",
            "5/5 [==============================] - 35s 9s/step - loss: 0.7216 - accuracy: 0.5360 - val_loss: 0.7210 - val_accuracy: 0.4291\n",
            "Epoch 5/10\n",
            "5/5 [==============================] - 23s 5s/step - loss: 0.7140 - accuracy: 0.5280 - val_loss: 0.7308 - val_accuracy: 0.4263\n",
            "Epoch 6/10\n",
            "5/5 [==============================] - 37s 9s/step - loss: 0.6897 - accuracy: 0.5760 - val_loss: 0.6994 - val_accuracy: 0.4765\n",
            "Epoch 7/10\n",
            "5/5 [==============================] - 22s 5s/step - loss: 0.6711 - accuracy: 0.6080 - val_loss: 0.7272 - val_accuracy: 0.4265\n",
            "Epoch 8/10\n",
            "5/5 [==============================] - 21s 5s/step - loss: 0.6545 - accuracy: 0.6000 - val_loss: 0.7631 - val_accuracy: 0.4251\n",
            "Epoch 9/10\n",
            "5/5 [==============================] - 21s 5s/step - loss: 0.6653 - accuracy: 0.6000 - val_loss: 0.7389 - val_accuracy: 0.4270\n",
            "Epoch 10/10\n",
            "5/5 [==============================] - 23s 6s/step - loss: 0.6611 - accuracy: 0.6400 - val_loss: 0.7368 - val_accuracy: 0.4273\n",
            "1000/1000 [==============================] - 60s 54ms/step - loss: 0.6952 - accuracy: 0.5034\n",
            "Test acc: 0.503\n"
          ]
        }
      ]
    },
    {
      "cell_type": "markdown",
      "source": [
        "**Training with 150 Samples**"
      ],
      "metadata": {
        "id": "PDNhziaEVW46"
      }
    },
    {
      "cell_type": "markdown",
      "source": [
        "Data Preparation"
      ],
      "metadata": {
        "id": "OKyMPmizFNlx"
      }
    },
    {
      "cell_type": "code",
      "source": [
        "max_features = 10000  # Consider only the top 10,000 words\n",
        "sequence_length = 150  # Cutoff reviews after 150 words\n",
        "training_samples = 150  # Number of training samples\n",
        "validation_samples = 10000  # Number of validation samples\n",
        "batch_size = 25  # Batch size for training"
      ],
      "metadata": {
        "id": "MOpBOwLHYwc2"
      },
      "execution_count": null,
      "outputs": []
    },
    {
      "cell_type": "code",
      "source": [
        "# Limit the dataset to an exact number of samples\n",
        "def limit_dataset(ds, num_samples):\n",
        "    return ds.unbatch().take(num_samples).batch(batch_size)\n",
        "\n",
        "# Apply the limiting function\n",
        "train_ds = limit_dataset(raw_train_ds, training_samples)\n",
        "val_ds = limit_dataset(raw_val_ds, validation_samples)\n",
        "test_ds = raw_test_ds\n",
        "# Text Vectorization\n",
        "text_vectorization = TextVectorization(\n",
        "    max_tokens=max_features,\n",
        "    output_sequence_length=sequence_length\n",
        ")\n",
        "train_text = train_ds.map(lambda x, y: x)\n",
        "text_vectorization.adapt(train_text)"
      ],
      "metadata": {
        "id": "IMBYBp20ZiMY"
      },
      "execution_count": null,
      "outputs": []
    },
    {
      "cell_type": "code",
      "source": [
        "# Slice the datasets\n",
        "train_ds = raw_train_ds.take(training_samples // batch_size)\n",
        "val_ds = raw_val_ds.take(validation_samples // batch_size)\n",
        "test_ds = raw_test_ds\n",
        "\n",
        "# Text Vectorization\n",
        "text_vectorization = TextVectorization(\n",
        "    max_tokens=max_features,\n",
        "    output_sequence_length=sequence_length\n",
        ")\n",
        "train_text = train_ds.map(lambda x, y: x)\n",
        "text_vectorization.adapt(train_text)"
      ],
      "metadata": {
        "id": "OgFomO0hLdUS"
      },
      "execution_count": null,
      "outputs": []
    },
    {
      "cell_type": "code",
      "source": [
        "# Vectorize the datasets\n",
        "train_ds = train_ds.map(lambda x, y: (text_vectorization(x), y))\n",
        "val_ds = val_ds.map(lambda x, y: (text_vectorization(x), y))\n",
        "test_ds = raw_test_ds.map(lambda x, y: (text_vectorization(x), y))"
      ],
      "metadata": {
        "id": "S5AWGOOkLmIO"
      },
      "execution_count": null,
      "outputs": []
    },
    {
      "cell_type": "markdown",
      "source": [
        " Train with embedding layer from scratch with 150 samples\n",
        "\n",
        "\n"
      ],
      "metadata": {
        "id": "1Jd53K2HLsBj"
      }
    },
    {
      "cell_type": "code",
      "source": [
        "from tensorflow.keras import layers\n",
        "inputs = keras.Input(shape=(None,), dtype=\"int64\")\n",
        "embedded = layers.Embedding(input_dim=max_features, output_dim=256)(inputs)\n",
        "x = layers.Bidirectional(layers.LSTM(32))(embedded)\n",
        "x = layers.Dropout(0.5)(x)\n",
        "outputs = layers.Dense(1, activation=\"sigmoid\")(x)\n",
        "model = keras.Model(inputs, outputs)\n",
        "model.compile(optimizer=\"rmsprop\",\n",
        "              loss=\"binary_crossentropy\",\n",
        "              metrics=[\"accuracy\"])\n",
        "model.summary()\n",
        "\n",
        "callbacks = [\n",
        "    keras.callbacks.ModelCheckpoint(\"embeddings_bidir_gru.keras\",\n",
        "                                    save_best_only=True)\n",
        "]\n",
        "model.fit(train_ds, validation_data=val_ds, epochs=10, callbacks=callbacks)\n",
        "model = keras.models.load_model(\"embeddings_bidir_gru.keras\")\n",
        "print(f\"Test acc: {model.evaluate(test_ds)[1]:.3f}\")"
      ],
      "metadata": {
        "colab": {
          "base_uri": "https://localhost:8080/"
        },
        "id": "24guVhsOLygs",
        "outputId": "892a7d93-51ea-4639-fb7c-b7f6e192d197"
      },
      "execution_count": null,
      "outputs": [
        {
          "output_type": "stream",
          "name": "stdout",
          "text": [
            "Model: \"model_6\"\n",
            "_________________________________________________________________\n",
            " Layer (type)                Output Shape              Param #   \n",
            "=================================================================\n",
            " input_7 (InputLayer)        [(None, None)]            0         \n",
            "                                                                 \n",
            " embedding_4 (Embedding)     (None, None, 256)         2560000   \n",
            "                                                                 \n",
            " bidirectional_6 (Bidirecti  (None, 64)                73984     \n",
            " onal)                                                           \n",
            "                                                                 \n",
            " dropout_6 (Dropout)         (None, 64)                0         \n",
            "                                                                 \n",
            " dense_6 (Dense)             (None, 1)                 65        \n",
            "                                                                 \n",
            "=================================================================\n",
            "Total params: 2634049 (10.05 MB)\n",
            "Trainable params: 2634049 (10.05 MB)\n",
            "Non-trainable params: 0 (0.00 Byte)\n",
            "_________________________________________________________________\n",
            "Epoch 1/10\n",
            "6/6 [==============================] - 28s 5s/step - loss: 0.6899 - accuracy: 0.5467 - val_loss: 0.7040 - val_accuracy: 0.4243\n",
            "Epoch 2/10\n",
            "6/6 [==============================] - 22s 4s/step - loss: 0.6751 - accuracy: 0.5867 - val_loss: 0.7176 - val_accuracy: 0.4256\n",
            "Epoch 3/10\n",
            "6/6 [==============================] - 22s 4s/step - loss: 0.6760 - accuracy: 0.5600 - val_loss: 0.7215 - val_accuracy: 0.4265\n",
            "Epoch 4/10\n",
            "6/6 [==============================] - 20s 4s/step - loss: 0.6793 - accuracy: 0.5533 - val_loss: 0.7181 - val_accuracy: 0.4248\n",
            "Epoch 5/10\n",
            "6/6 [==============================] - 22s 4s/step - loss: 0.6860 - accuracy: 0.5400 - val_loss: 0.7095 - val_accuracy: 0.4254\n",
            "Epoch 6/10\n",
            "6/6 [==============================] - 16s 3s/step - loss: 0.6699 - accuracy: 0.6067 - val_loss: 0.7140 - val_accuracy: 0.4249\n",
            "Epoch 7/10\n",
            "6/6 [==============================] - 18s 4s/step - loss: 0.6640 - accuracy: 0.6133 - val_loss: 0.7187 - val_accuracy: 0.4260\n",
            "Epoch 8/10\n",
            "6/6 [==============================] - 21s 4s/step - loss: 0.6490 - accuracy: 0.5933 - val_loss: 0.7269 - val_accuracy: 0.4260\n",
            "Epoch 9/10\n",
            "6/6 [==============================] - 21s 4s/step - loss: 0.6344 - accuracy: 0.5933 - val_loss: 0.7308 - val_accuracy: 0.4261\n",
            "Epoch 10/10\n",
            "6/6 [==============================] - 22s 4s/step - loss: 0.6090 - accuracy: 0.6333 - val_loss: 0.7375 - val_accuracy: 0.4292\n",
            "1000/1000 [==============================] - 48s 46ms/step - loss: 0.6942 - accuracy: 0.5000\n",
            "Test acc: 0.500\n"
          ]
        }
      ]
    },
    {
      "cell_type": "markdown",
      "source": [
        "Training 150 samples using GloVe pretrained embedding layer"
      ],
      "metadata": {
        "id": "Ljh8TgeeFWhl"
      }
    },
    {
      "cell_type": "code",
      "source": [
        "inputs = keras.Input(shape=(None,), dtype=\"int64\")\n",
        "embedded = embedding_layer(inputs)\n",
        "x = layers.Bidirectional(layers.LSTM(32))(embedded)\n",
        "x = layers.Dropout(0.5)(x)\n",
        "outputs = layers.Dense(1, activation=\"sigmoid\")(x)\n",
        "model = keras.Model(inputs, outputs)\n",
        "model.compile(optimizer=\"rmsprop\",\n",
        "              loss=\"binary_crossentropy\",\n",
        "              metrics=[\"accuracy\"])\n",
        "model.summary()\n",
        "\n",
        "callbacks = [\n",
        "    keras.callbacks.ModelCheckpoint(\"glove_embeddings_sequence_model.keras\",\n",
        "                                    save_best_only=True)\n",
        "]\n",
        "model.fit(train_ds, validation_data=val_ds, epochs=10, callbacks=callbacks)\n",
        "model = keras.models.load_model(\"glove_embeddings_sequence_model.keras\")\n",
        "print(f\"Test acc: {model.evaluate(test_ds)[1]:.3f}\")"
      ],
      "metadata": {
        "colab": {
          "base_uri": "https://localhost:8080/"
        },
        "id": "6F8j6kPCRd99",
        "outputId": "89d29187-524e-4bdd-adae-3854280a02fd"
      },
      "execution_count": 51,
      "outputs": [
        {
          "output_type": "stream",
          "name": "stdout",
          "text": [
            "Model: \"model_7\"\n",
            "_________________________________________________________________\n",
            " Layer (type)                Output Shape              Param #   \n",
            "=================================================================\n",
            " input_8 (InputLayer)        [(None, None)]            0         \n",
            "                                                                 \n",
            " embedding_1 (Embedding)     (None, None, 100)         1000000   \n",
            "                                                                 \n",
            " bidirectional_7 (Bidirecti  (None, 64)                34048     \n",
            " onal)                                                           \n",
            "                                                                 \n",
            " dropout_7 (Dropout)         (None, 64)                0         \n",
            "                                                                 \n",
            " dense_7 (Dense)             (None, 1)                 65        \n",
            "                                                                 \n",
            "=================================================================\n",
            "Total params: 1034113 (3.94 MB)\n",
            "Trainable params: 34113 (133.25 KB)\n",
            "Non-trainable params: 1000000 (3.81 MB)\n",
            "_________________________________________________________________\n",
            "Epoch 1/10\n",
            "6/6 [==============================] - 50s 8s/step - loss: 0.6904 - accuracy: 0.5600 - val_loss: 0.7322 - val_accuracy: 0.4255\n",
            "Epoch 2/10\n",
            "6/6 [==============================] - 39s 8s/step - loss: 0.6980 - accuracy: 0.5333 - val_loss: 0.7034 - val_accuracy: 0.4699\n",
            "Epoch 3/10\n",
            "6/6 [==============================] - 19s 4s/step - loss: 0.6769 - accuracy: 0.5933 - val_loss: 0.7213 - val_accuracy: 0.4329\n",
            "Epoch 4/10\n",
            "6/6 [==============================] - 22s 4s/step - loss: 0.6638 - accuracy: 0.6400 - val_loss: 0.7572 - val_accuracy: 0.4246\n",
            "Epoch 5/10\n",
            "6/6 [==============================] - 16s 3s/step - loss: 0.6573 - accuracy: 0.6133 - val_loss: 0.7477 - val_accuracy: 0.4248\n",
            "Epoch 6/10\n",
            "6/6 [==============================] - 18s 4s/step - loss: 0.6676 - accuracy: 0.6067 - val_loss: 0.7307 - val_accuracy: 0.4272\n",
            "Epoch 7/10\n",
            "6/6 [==============================] - 21s 4s/step - loss: 0.6648 - accuracy: 0.6133 - val_loss: 0.7711 - val_accuracy: 0.4238\n",
            "Epoch 8/10\n",
            "6/6 [==============================] - 21s 4s/step - loss: 0.6631 - accuracy: 0.6133 - val_loss: 0.7421 - val_accuracy: 0.4259\n",
            "Epoch 9/10\n",
            "6/6 [==============================] - 39s 8s/step - loss: 0.6971 - accuracy: 0.5467 - val_loss: 0.6917 - val_accuracy: 0.5273\n",
            "Epoch 10/10\n",
            "6/6 [==============================] - 21s 4s/step - loss: 0.6651 - accuracy: 0.6000 - val_loss: 0.7301 - val_accuracy: 0.4305\n",
            "1000/1000 [==============================] - 54s 47ms/step - loss: 0.6953 - accuracy: 0.5083\n",
            "Test acc: 0.508\n"
          ]
        }
      ]
    },
    {
      "cell_type": "markdown",
      "source": [
        "**With 175 samples**"
      ],
      "metadata": {
        "id": "Rptwdgb55Qbz"
      }
    },
    {
      "cell_type": "markdown",
      "source": [
        "Data Preparation"
      ],
      "metadata": {
        "id": "fWAY7vLVFcv9"
      }
    },
    {
      "cell_type": "code",
      "source": [
        "max_features = 10000  # Consider only the top 10,000 words\n",
        "sequence_length = 150  # Cutoff reviews after 150 words\n",
        "training_samples = 175  # Number of training samples\n",
        "validation_samples = 10000  # Number of validation samples\n",
        "batch_size = 25  # Batch size for training"
      ],
      "metadata": {
        "id": "Iki41BCj5UcG"
      },
      "execution_count": 52,
      "outputs": []
    },
    {
      "cell_type": "code",
      "source": [
        "# Limit the dataset to an exact number of samples\n",
        "def limit_dataset(ds, num_samples):\n",
        "    return ds.unbatch().take(num_samples).batch(batch_size)\n",
        "\n",
        "# Apply the limiting function\n",
        "train_ds = limit_dataset(raw_train_ds, training_samples)\n",
        "val_ds = limit_dataset(raw_val_ds, validation_samples)\n",
        "test_ds = raw_test_ds\n",
        "# Text Vectorization\n",
        "text_vectorization = TextVectorization(\n",
        "    max_tokens=max_features,\n",
        "    output_sequence_length=sequence_length\n",
        ")\n",
        "train_text = train_ds.map(lambda x, y: x)\n",
        "text_vectorization.adapt(train_text)"
      ],
      "metadata": {
        "id": "ZvNKbglM5cbH"
      },
      "execution_count": 53,
      "outputs": []
    },
    {
      "cell_type": "code",
      "source": [
        "# Slice the datasets\n",
        "train_ds = raw_train_ds.take(training_samples // batch_size)\n",
        "val_ds = raw_val_ds.take(validation_samples // batch_size)\n",
        "test_ds = raw_test_ds\n",
        "\n",
        "# Text Vectorization\n",
        "text_vectorization = TextVectorization(\n",
        "    max_tokens=max_features,\n",
        "    output_sequence_length=sequence_length\n",
        ")\n",
        "train_text = train_ds.map(lambda x, y: x)\n",
        "text_vectorization.adapt(train_text)"
      ],
      "metadata": {
        "id": "6vaKKKh-5hMQ"
      },
      "execution_count": 54,
      "outputs": []
    },
    {
      "cell_type": "code",
      "source": [
        "# Vectorize the datasets\n",
        "train_ds = train_ds.map(lambda x, y: (text_vectorization(x), y))\n",
        "val_ds = val_ds.map(lambda x, y: (text_vectorization(x), y))\n",
        "test_ds = raw_test_ds.map(lambda x, y: (text_vectorization(x), y))"
      ],
      "metadata": {
        "id": "ghAo6ZZz5lR0"
      },
      "execution_count": 55,
      "outputs": []
    },
    {
      "cell_type": "markdown",
      "source": [
        "Training with embedding layer from scratch with 175 samples"
      ],
      "metadata": {
        "id": "i6O7ZXh25vfe"
      }
    },
    {
      "cell_type": "code",
      "source": [
        "from tensorflow.keras import layers\n",
        "inputs = keras.Input(shape=(None,), dtype=\"int64\")\n",
        "embedded = layers.Embedding(input_dim=max_features, output_dim=256)(inputs)\n",
        "x = layers.Bidirectional(layers.LSTM(32))(embedded)\n",
        "x = layers.Dropout(0.5)(x)\n",
        "outputs = layers.Dense(1, activation=\"sigmoid\")(x)\n",
        "model = keras.Model(inputs, outputs)\n",
        "model.compile(optimizer=\"rmsprop\",\n",
        "              loss=\"binary_crossentropy\",\n",
        "              metrics=[\"accuracy\"])\n",
        "model.summary()\n",
        "\n",
        "callbacks = [\n",
        "    keras.callbacks.ModelCheckpoint(\"embeddings_bidir_gru.keras\",\n",
        "                                    save_best_only=True)\n",
        "]\n",
        "model.fit(train_ds, validation_data=val_ds, epochs=10, callbacks=callbacks)\n",
        "model = keras.models.load_model(\"embeddings_bidir_gru.keras\")\n",
        "print(f\"Test acc: {model.evaluate(test_ds)[1]:.3f}\")"
      ],
      "metadata": {
        "colab": {
          "base_uri": "https://localhost:8080/"
        },
        "id": "w6mGU2nj5yYo",
        "outputId": "0bd0b326-204d-414f-f09f-159191bfbc7c"
      },
      "execution_count": 56,
      "outputs": [
        {
          "output_type": "stream",
          "name": "stdout",
          "text": [
            "Model: \"model_8\"\n",
            "_________________________________________________________________\n",
            " Layer (type)                Output Shape              Param #   \n",
            "=================================================================\n",
            " input_9 (InputLayer)        [(None, None)]            0         \n",
            "                                                                 \n",
            " embedding_5 (Embedding)     (None, None, 256)         2560000   \n",
            "                                                                 \n",
            " bidirectional_8 (Bidirecti  (None, 64)                73984     \n",
            " onal)                                                           \n",
            "                                                                 \n",
            " dropout_8 (Dropout)         (None, 64)                0         \n",
            "                                                                 \n",
            " dense_8 (Dense)             (None, 1)                 65        \n",
            "                                                                 \n",
            "=================================================================\n",
            "Total params: 2634049 (10.05 MB)\n",
            "Trainable params: 2634049 (10.05 MB)\n",
            "Non-trainable params: 0 (0.00 Byte)\n",
            "_________________________________________________________________\n",
            "Epoch 1/10\n",
            "7/7 [==============================] - 31s 4s/step - loss: 0.6911 - accuracy: 0.5257 - val_loss: 0.7009 - val_accuracy: 0.4256\n",
            "Epoch 2/10\n",
            "7/7 [==============================] - 42s 7s/step - loss: 0.6740 - accuracy: 0.6114 - val_loss: 0.7201 - val_accuracy: 0.4238\n",
            "Epoch 3/10\n",
            "7/7 [==============================] - 22s 4s/step - loss: 0.6797 - accuracy: 0.5657 - val_loss: 0.7185 - val_accuracy: 0.4242\n",
            "Epoch 4/10\n",
            "7/7 [==============================] - 21s 4s/step - loss: 0.6571 - accuracy: 0.6171 - val_loss: 0.7350 - val_accuracy: 0.4245\n",
            "Epoch 5/10\n",
            "7/7 [==============================] - 16s 3s/step - loss: 0.6447 - accuracy: 0.6000 - val_loss: 0.7432 - val_accuracy: 0.4248\n",
            "Epoch 6/10\n",
            "7/7 [==============================] - 21s 3s/step - loss: 0.6272 - accuracy: 0.6171 - val_loss: 0.7737 - val_accuracy: 0.4244\n",
            "Epoch 7/10\n",
            "7/7 [==============================] - 21s 4s/step - loss: 0.6330 - accuracy: 0.5886 - val_loss: 0.7200 - val_accuracy: 0.4398\n",
            "Epoch 8/10\n",
            "7/7 [==============================] - 22s 4s/step - loss: 0.5926 - accuracy: 0.6971 - val_loss: 0.7078 - val_accuracy: 0.4900\n",
            "Epoch 9/10\n",
            "7/7 [==============================] - 23s 4s/step - loss: 0.5721 - accuracy: 0.7429 - val_loss: 0.6682 - val_accuracy: 0.5997\n",
            "Epoch 10/10\n",
            "7/7 [==============================] - 22s 4s/step - loss: 0.5115 - accuracy: 0.7886 - val_loss: 0.6673 - val_accuracy: 0.6042\n",
            "1000/1000 [==============================] - 48s 47ms/step - loss: 0.6678 - accuracy: 0.5985\n",
            "Test acc: 0.598\n"
          ]
        }
      ]
    },
    {
      "cell_type": "markdown",
      "source": [
        "Training 175 samples using GloVe pretrained embedding layer"
      ],
      "metadata": {
        "id": "_S6DP2vgFhtc"
      }
    },
    {
      "cell_type": "code",
      "source": [
        "inputs = keras.Input(shape=(None,), dtype=\"int64\")\n",
        "embedded = embedding_layer(inputs)\n",
        "x = layers.Bidirectional(layers.LSTM(32))(embedded)\n",
        "x = layers.Dropout(0.5)(x)\n",
        "outputs = layers.Dense(1, activation=\"sigmoid\")(x)\n",
        "model = keras.Model(inputs, outputs)\n",
        "model.compile(optimizer=\"rmsprop\",\n",
        "              loss=\"binary_crossentropy\",\n",
        "              metrics=[\"accuracy\"])\n",
        "model.summary()\n",
        "\n",
        "callbacks = [\n",
        "    keras.callbacks.ModelCheckpoint(\"glove_embeddings_sequence_model.keras\",\n",
        "                                    save_best_only=True)\n",
        "]\n",
        "model.fit(train_ds, validation_data=val_ds, epochs=10, callbacks=callbacks)\n",
        "model = keras.models.load_model(\"glove_embeddings_sequence_model.keras\")\n",
        "print(f\"Test acc: {model.evaluate(test_ds)[1]:.3f}\")"
      ],
      "metadata": {
        "colab": {
          "base_uri": "https://localhost:8080/"
        },
        "id": "056gouG287Bo",
        "outputId": "e53d3dae-33f2-4f5a-ae17-abbe9e6c23d3"
      },
      "execution_count": 57,
      "outputs": [
        {
          "output_type": "stream",
          "name": "stdout",
          "text": [
            "Model: \"model_9\"\n",
            "_________________________________________________________________\n",
            " Layer (type)                Output Shape              Param #   \n",
            "=================================================================\n",
            " input_10 (InputLayer)       [(None, None)]            0         \n",
            "                                                                 \n",
            " embedding_1 (Embedding)     (None, None, 100)         1000000   \n",
            "                                                                 \n",
            " bidirectional_9 (Bidirecti  (None, 64)                34048     \n",
            " onal)                                                           \n",
            "                                                                 \n",
            " dropout_9 (Dropout)         (None, 64)                0         \n",
            "                                                                 \n",
            " dense_9 (Dense)             (None, 1)                 65        \n",
            "                                                                 \n",
            "=================================================================\n",
            "Total params: 1034113 (3.94 MB)\n",
            "Trainable params: 34113 (133.25 KB)\n",
            "Non-trainable params: 1000000 (3.81 MB)\n",
            "_________________________________________________________________\n",
            "Epoch 1/10\n",
            "7/7 [==============================] - 49s 6s/step - loss: 0.7012 - accuracy: 0.5200 - val_loss: 0.7782 - val_accuracy: 0.4249\n",
            "Epoch 2/10\n",
            "7/7 [==============================] - 39s 6s/step - loss: 0.7072 - accuracy: 0.5600 - val_loss: 0.7177 - val_accuracy: 0.4295\n",
            "Epoch 3/10\n",
            "7/7 [==============================] - 21s 3s/step - loss: 0.6789 - accuracy: 0.5429 - val_loss: 0.7209 - val_accuracy: 0.4273\n",
            "Epoch 4/10\n",
            "7/7 [==============================] - 15s 3s/step - loss: 0.6725 - accuracy: 0.6171 - val_loss: 0.7269 - val_accuracy: 0.4262\n",
            "Epoch 5/10\n",
            "7/7 [==============================] - 22s 4s/step - loss: 0.6897 - accuracy: 0.5543 - val_loss: 0.7418 - val_accuracy: 0.4238\n",
            "Epoch 6/10\n",
            "7/7 [==============================] - 22s 4s/step - loss: 0.6440 - accuracy: 0.6286 - val_loss: 0.7633 - val_accuracy: 0.4253\n",
            "Epoch 7/10\n",
            "7/7 [==============================] - 18s 3s/step - loss: 0.6684 - accuracy: 0.5714 - val_loss: 0.7286 - val_accuracy: 0.4277\n",
            "Epoch 8/10\n",
            "7/7 [==============================] - 21s 3s/step - loss: 0.6631 - accuracy: 0.6171 - val_loss: 0.7238 - val_accuracy: 0.4346\n",
            "Epoch 9/10\n",
            "7/7 [==============================] - 22s 4s/step - loss: 0.6566 - accuracy: 0.6114 - val_loss: 0.7555 - val_accuracy: 0.4244\n",
            "Epoch 10/10\n",
            "7/7 [==============================] - 36s 6s/step - loss: 0.6734 - accuracy: 0.5943 - val_loss: 0.7020 - val_accuracy: 0.4873\n",
            "1000/1000 [==============================] - 48s 40ms/step - loss: 0.6935 - accuracy: 0.5178\n",
            "Test acc: 0.518\n"
          ]
        }
      ]
    },
    {
      "cell_type": "markdown",
      "source": [
        "Training with 200 Samples"
      ],
      "metadata": {
        "id": "TVy7eT1fGoo4"
      }
    },
    {
      "cell_type": "markdown",
      "source": [
        "Data Preparation"
      ],
      "metadata": {
        "id": "r596id66Gu_q"
      }
    },
    {
      "cell_type": "code",
      "source": [
        "max_features = 10000  # Consider only the top 10,000 words\n",
        "sequence_length = 150  # Cutoff reviews after 150 words\n",
        "training_samples = 200  # Number of training samples\n",
        "validation_samples = 10000  # Number of validation samples\n",
        "batch_size = 25  # Batch size for training"
      ],
      "metadata": {
        "id": "IdK0W3tFGq5L"
      },
      "execution_count": 65,
      "outputs": []
    },
    {
      "cell_type": "code",
      "source": [
        "# Limit the dataset to an exact number of samples\n",
        "def limit_dataset(ds, num_samples):\n",
        "    return ds.unbatch().take(num_samples).batch(batch_size)\n",
        "\n",
        "# Apply the limiting function\n",
        "train_ds = limit_dataset(raw_train_ds, training_samples)\n",
        "val_ds = limit_dataset(raw_val_ds, validation_samples)\n",
        "test_ds = raw_test_ds\n",
        "# Text Vectorization\n",
        "text_vectorization = TextVectorization(\n",
        "    max_tokens=max_features,\n",
        "    output_sequence_length=sequence_length\n",
        ")\n",
        "train_text = train_ds.map(lambda x, y: x)\n",
        "text_vectorization.adapt(train_text)"
      ],
      "metadata": {
        "id": "ZUITY8RmG3iH"
      },
      "execution_count": 66,
      "outputs": []
    },
    {
      "cell_type": "code",
      "source": [
        "# Slice the datasets\n",
        "train_ds = raw_train_ds.take(training_samples // batch_size)\n",
        "val_ds = raw_val_ds.take(validation_samples // batch_size)\n",
        "test_ds = raw_test_ds\n",
        "\n",
        "# Text Vectorization\n",
        "text_vectorization = TextVectorization(\n",
        "    max_tokens=max_features,\n",
        "    output_sequence_length=sequence_length\n",
        ")\n",
        "train_text = train_ds.map(lambda x, y: x)\n",
        "text_vectorization.adapt(train_text)"
      ],
      "metadata": {
        "id": "s-cdYyf7G7KQ"
      },
      "execution_count": 67,
      "outputs": []
    },
    {
      "cell_type": "code",
      "source": [
        "# Vectorize the datasets\n",
        "train_ds = train_ds.map(lambda x, y: (text_vectorization(x), y))\n",
        "val_ds = val_ds.map(lambda x, y: (text_vectorization(x), y))\n",
        "test_ds = raw_test_ds.map(lambda x, y: (text_vectorization(x), y))"
      ],
      "metadata": {
        "id": "Itgex3JnG_Eo"
      },
      "execution_count": 68,
      "outputs": []
    },
    {
      "cell_type": "markdown",
      "source": [
        "Training with embedding layer from scratch"
      ],
      "metadata": {
        "id": "2I07R3_nHDwb"
      }
    },
    {
      "cell_type": "code",
      "source": [
        "from tensorflow.keras import layers\n",
        "inputs = keras.Input(shape=(None,), dtype=\"int64\")\n",
        "embedded = layers.Embedding(input_dim=max_features, output_dim=256)(inputs)\n",
        "x = layers.Bidirectional(layers.LSTM(32))(embedded)\n",
        "x = layers.Dropout(0.5)(x)\n",
        "outputs = layers.Dense(1, activation=\"sigmoid\")(x)\n",
        "model = keras.Model(inputs, outputs)\n",
        "model.compile(optimizer=\"rmsprop\",\n",
        "              loss=\"binary_crossentropy\",\n",
        "              metrics=[\"accuracy\"])\n",
        "model.summary()\n",
        "\n",
        "callbacks = [\n",
        "    keras.callbacks.ModelCheckpoint(\"embeddings_bidir_gru.keras\",\n",
        "                                    save_best_only=True)\n",
        "]\n",
        "model.fit(train_ds, validation_data=val_ds, epochs=10, callbacks=callbacks)\n",
        "model = keras.models.load_model(\"embeddings_bidir_gru.keras\")\n",
        "print(f\"Test acc: {model.evaluate(test_ds)[1]:.3f}\")"
      ],
      "metadata": {
        "colab": {
          "base_uri": "https://localhost:8080/"
        },
        "id": "xT9QYi9NHGso",
        "outputId": "0846a6d0-7c2b-4b6b-8324-4f2f3ff95fb7"
      },
      "execution_count": 69,
      "outputs": [
        {
          "output_type": "stream",
          "name": "stdout",
          "text": [
            "Model: \"model_12\"\n",
            "_________________________________________________________________\n",
            " Layer (type)                Output Shape              Param #   \n",
            "=================================================================\n",
            " input_13 (InputLayer)       [(None, None)]            0         \n",
            "                                                                 \n",
            " embedding_7 (Embedding)     (None, None, 256)         2560000   \n",
            "                                                                 \n",
            " bidirectional_12 (Bidirect  (None, 64)                73984     \n",
            " ional)                                                          \n",
            "                                                                 \n",
            " dropout_12 (Dropout)        (None, 64)                0         \n",
            "                                                                 \n",
            " dense_12 (Dense)            (None, 1)                 65        \n",
            "                                                                 \n",
            "=================================================================\n",
            "Total params: 2634049 (10.05 MB)\n",
            "Trainable params: 2634049 (10.05 MB)\n",
            "Non-trainable params: 0 (0.00 Byte)\n",
            "_________________________________________________________________\n",
            "Epoch 1/10\n",
            "8/8 [==============================] - 32s 3s/step - loss: 0.6892 - accuracy: 0.5450 - val_loss: 0.7066 - val_accuracy: 0.4254\n",
            "Epoch 2/10\n",
            "8/8 [==============================] - 25s 3s/step - loss: 0.6777 - accuracy: 0.6050 - val_loss: 0.7194 - val_accuracy: 0.4243\n",
            "Epoch 3/10\n",
            "8/8 [==============================] - 22s 3s/step - loss: 0.6750 - accuracy: 0.5750 - val_loss: 0.7234 - val_accuracy: 0.4249\n",
            "Epoch 4/10\n",
            "8/8 [==============================] - 22s 3s/step - loss: 0.6506 - accuracy: 0.6250 - val_loss: 0.7420 - val_accuracy: 0.4247\n",
            "Epoch 5/10\n",
            "8/8 [==============================] - 17s 2s/step - loss: 0.6490 - accuracy: 0.5800 - val_loss: 0.7319 - val_accuracy: 0.4257\n",
            "Epoch 6/10\n",
            "8/8 [==============================] - 20s 3s/step - loss: 0.6398 - accuracy: 0.6150 - val_loss: 0.7306 - val_accuracy: 0.4262\n",
            "Epoch 7/10\n",
            "8/8 [==============================] - 22s 3s/step - loss: 0.6194 - accuracy: 0.6550 - val_loss: 0.7199 - val_accuracy: 0.4455\n",
            "Epoch 8/10\n",
            "8/8 [==============================] - 22s 3s/step - loss: 0.5612 - accuracy: 0.7450 - val_loss: 0.6975 - val_accuracy: 0.5444\n",
            "Epoch 9/10\n",
            "8/8 [==============================] - 23s 3s/step - loss: 0.5206 - accuracy: 0.8050 - val_loss: 0.6567 - val_accuracy: 0.6232\n",
            "Epoch 10/10\n",
            "8/8 [==============================] - 23s 3s/step - loss: 0.4459 - accuracy: 0.8850 - val_loss: 0.6428 - val_accuracy: 0.6485\n",
            "1000/1000 [==============================] - 48s 45ms/step - loss: 0.6441 - accuracy: 0.6298\n",
            "Test acc: 0.630\n"
          ]
        }
      ]
    },
    {
      "cell_type": "markdown",
      "source": [
        "Training with Glove Pretrained Embedding Layer"
      ],
      "metadata": {
        "id": "GrbzKAhyHMt8"
      }
    },
    {
      "cell_type": "code",
      "source": [
        "inputs = keras.Input(shape=(None,), dtype=\"int64\")\n",
        "embedded = embedding_layer(inputs)\n",
        "x = layers.Bidirectional(layers.LSTM(32))(embedded)\n",
        "x = layers.Dropout(0.5)(x)\n",
        "outputs = layers.Dense(1, activation=\"sigmoid\")(x)\n",
        "model = keras.Model(inputs, outputs)\n",
        "model.compile(optimizer=\"rmsprop\",\n",
        "              loss=\"binary_crossentropy\",\n",
        "              metrics=[\"accuracy\"])\n",
        "model.summary()\n",
        "\n",
        "callbacks = [\n",
        "    keras.callbacks.ModelCheckpoint(\"glove_embeddings_sequence_model.keras\",\n",
        "                                    save_best_only=True)\n",
        "]\n",
        "model.fit(train_ds, validation_data=val_ds, epochs=10, callbacks=callbacks)\n",
        "model = keras.models.load_model(\"glove_embeddings_sequence_model.keras\")\n",
        "print(f\"Test acc: {model.evaluate(test_ds)[1]:.3f}\")"
      ],
      "metadata": {
        "colab": {
          "base_uri": "https://localhost:8080/"
        },
        "id": "V4KZDKd9HPTL",
        "outputId": "9a82a75c-2816-4f7f-f6dc-f4066d2e3951"
      },
      "execution_count": 70,
      "outputs": [
        {
          "output_type": "stream",
          "name": "stdout",
          "text": [
            "Model: \"model_13\"\n",
            "_________________________________________________________________\n",
            " Layer (type)                Output Shape              Param #   \n",
            "=================================================================\n",
            " input_14 (InputLayer)       [(None, None)]            0         \n",
            "                                                                 \n",
            " embedding_1 (Embedding)     (None, None, 100)         1000000   \n",
            "                                                                 \n",
            " bidirectional_13 (Bidirect  (None, 64)                34048     \n",
            " ional)                                                          \n",
            "                                                                 \n",
            " dropout_13 (Dropout)        (None, 64)                0         \n",
            "                                                                 \n",
            " dense_13 (Dense)            (None, 1)                 65        \n",
            "                                                                 \n",
            "=================================================================\n",
            "Total params: 1034113 (3.94 MB)\n",
            "Trainable params: 34113 (133.25 KB)\n",
            "Non-trainable params: 1000000 (3.81 MB)\n",
            "_________________________________________________________________\n",
            "Epoch 1/10\n",
            "8/8 [==============================] - 51s 6s/step - loss: 0.6990 - accuracy: 0.5850 - val_loss: 0.7056 - val_accuracy: 0.4615\n",
            "Epoch 2/10\n",
            "8/8 [==============================] - 23s 3s/step - loss: 0.6770 - accuracy: 0.5800 - val_loss: 0.7317 - val_accuracy: 0.4305\n",
            "Epoch 3/10\n",
            "8/8 [==============================] - 40s 6s/step - loss: 0.6881 - accuracy: 0.5250 - val_loss: 0.7014 - val_accuracy: 0.4801\n",
            "Epoch 4/10\n",
            "8/8 [==============================] - 22s 3s/step - loss: 0.6559 - accuracy: 0.6000 - val_loss: 0.7584 - val_accuracy: 0.4273\n",
            "Epoch 5/10\n",
            "8/8 [==============================] - 17s 2s/step - loss: 0.6939 - accuracy: 0.5500 - val_loss: 0.7187 - val_accuracy: 0.4430\n",
            "Epoch 6/10\n",
            "8/8 [==============================] - 23s 3s/step - loss: 0.6711 - accuracy: 0.5950 - val_loss: 0.7374 - val_accuracy: 0.4311\n",
            "Epoch 7/10\n",
            "8/8 [==============================] - 39s 5s/step - loss: 0.6854 - accuracy: 0.5750 - val_loss: 0.6981 - val_accuracy: 0.4957\n",
            "Epoch 8/10\n",
            "8/8 [==============================] - 18s 3s/step - loss: 0.6348 - accuracy: 0.6650 - val_loss: 0.7639 - val_accuracy: 0.4256\n",
            "Epoch 9/10\n",
            "8/8 [==============================] - 38s 5s/step - loss: 0.6765 - accuracy: 0.5750 - val_loss: 0.6953 - val_accuracy: 0.5170\n",
            "Epoch 10/10\n",
            "8/8 [==============================] - 22s 3s/step - loss: 0.6482 - accuracy: 0.6600 - val_loss: 0.7272 - val_accuracy: 0.4460\n",
            "1000/1000 [==============================] - 53s 45ms/step - loss: 0.6913 - accuracy: 0.5261\n",
            "Test acc: 0.526\n"
          ]
        }
      ]
    }
  ]
}