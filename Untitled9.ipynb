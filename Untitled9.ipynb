{
  "cells": [
    {
      "cell_type": "markdown",
      "metadata": {
        "id": "view-in-github",
        "colab_type": "text"
      },
      "source": [
        "<a href=\"https://colab.research.google.com/github/ngochif/fngochi_64061/blob/main/Untitled9.ipynb\" target=\"_parent\"><img src=\"https://colab.research.google.com/assets/colab-badge.svg\" alt=\"Open In Colab\"/></a>"
      ]
    },
    {
      "cell_type": "markdown",
      "metadata": {
        "id": "ttgyNC_ywUf_"
      },
      "source": [
        "**An Application of Text Classification on a Small Conflict and Security Dataset**\n",
        "\n"
      ]
    },
    {
      "cell_type": "markdown",
      "metadata": {
        "id": "g9azc6Rgwiaf"
      },
      "source": [
        "I. **Data Preparation**"
      ]
    },
    {
      "cell_type": "markdown",
      "metadata": {
        "id": "F2MfCNuOwsxk"
      },
      "source": [
        "*Data Preparation*"
      ]
    },
    {
      "cell_type": "code",
      "execution_count": 1,
      "metadata": {
        "id": "TBAxdSE02Gbp"
      },
      "outputs": [],
      "source": [
        "import pandas as pd\n",
        "\n",
        "# URL for fetching the CSV data\n",
        "url = \"https://api.acleddata.com/acled/read.csv?key=WssCFAvEzfzv1P9V6CRu&email=franklin.ngochi@un.org&year=2024\"\n"
      ]
    },
    {
      "cell_type": "code",
      "execution_count": 2,
      "metadata": {
        "id": "9l6lAF0VJtK7"
      },
      "outputs": [],
      "source": [
        "# Fetching the CSV data from the web and reading it into a DataFrame\n",
        "df = pd.read_csv(url)\n",
        "# Selecting only the required columns\n",
        "df = df[['civilian_targeting', 'notes']]"
      ]
    },
    {
      "cell_type": "code",
      "execution_count": 3,
      "metadata": {
        "id": "Z4mnvHxGy2jT",
        "colab": {
          "base_uri": "https://localhost:8080/"
        },
        "outputId": "2e566de0-cc57-4697-fd88-9c8f8ed744b5"
      },
      "outputs": [
        {
          "output_type": "stream",
          "name": "stdout",
          "text": [
            "  civilian_targeting                                              notes\n",
            "0                nan  On 3 May 2024, protesters held a large Houthi-...\n",
            "1                nan  On 3 May 2024, protesters held a large Houthi-...\n",
            "2                nan  On 3 May 2024, protesters held a large Houthi-...\n",
            "3                nan  On 3 May 2024, in Comodoro Rivadavia (Chubut),...\n",
            "4                nan  On 3 May 2024, a number of residents gathered ...\n"
          ]
        }
      ],
      "source": [
        "# Specifying the column types explicitly\n",
        "column_types = {\n",
        "    'civilian_targeting': 'str',\n",
        "    'notes': 'str'\n",
        "}\n",
        "# Change column types for the selected columns\n",
        "df = df.astype(column_types)\n",
        "print(df.head())"
      ]
    },
    {
      "cell_type": "code",
      "execution_count": 4,
      "metadata": {
        "colab": {
          "base_uri": "https://localhost:8080/",
          "height": 677
        },
        "id": "3aMCWhvlCkVD",
        "outputId": "03bd23f3-fde8-4d41-ac07-6161b09207b8"
      },
      "outputs": [
        {
          "output_type": "execute_result",
          "data": {
            "text/plain": [
              "    civilian_targeting                                              notes\n",
              "0                    0  On 3 May 2024, protesters held a large Houthi-...\n",
              "1                    0  On 3 May 2024, protesters held a large Houthi-...\n",
              "2                    0  On 3 May 2024, protesters held a large Houthi-...\n",
              "3                    0  On 3 May 2024, in Comodoro Rivadavia (Chubut),...\n",
              "4                    0  On 3 May 2024, a number of residents gathered ...\n",
              "5                    0  On 3 May 2024, JNIM militants attacked a posit...\n",
              "6                    1  On 3 May 2024, JNIM or IS Sahel militants kill...\n",
              "7                    0  On 3 May 2024, demonstrators, including Februa...\n",
              "8                    0  On 3 May 2024, demonstrators, including Februa...\n",
              "9                    0  On 3 May 2024, demonstrators, including Februa...\n",
              "10                   1  Around 3 May 2024 (as reported), in Oruro (Oru...\n",
              "11                   0  On 3 May 2024, in Salvador - Itapua (Brazil), ...\n",
              "12                   1  Around 3 May 2024 (as reported), in Brasilia -...\n",
              "13                   0  Security measures: On 3 May 2024, in Serra (Es...\n",
              "14                   0  On 3 May 2024, near Joao Lisboa (Maranhao), fo...\n",
              "15                   0  Property destruction: On 3 May 2024, in Jardim...\n",
              "16                   0  Property destruction: On 3 May 2024, in Ponta ...\n",
              "17                   1  On 3 May 2024, in Ananindeua (Para), two armed...\n",
              "18                   0  On 3 May 2024, in Benevides (Para), about 50 p...\n",
              "19                   0  On 3 May 2024, in Belford Roxo (Rio de Janeiro..."
            ],
            "text/html": [
              "\n",
              "  <div id=\"df-22077ce9-e029-4f7b-aa8b-3372dfafce24\" class=\"colab-df-container\">\n",
              "    <div>\n",
              "<style scoped>\n",
              "    .dataframe tbody tr th:only-of-type {\n",
              "        vertical-align: middle;\n",
              "    }\n",
              "\n",
              "    .dataframe tbody tr th {\n",
              "        vertical-align: top;\n",
              "    }\n",
              "\n",
              "    .dataframe thead th {\n",
              "        text-align: right;\n",
              "    }\n",
              "</style>\n",
              "<table border=\"1\" class=\"dataframe\">\n",
              "  <thead>\n",
              "    <tr style=\"text-align: right;\">\n",
              "      <th></th>\n",
              "      <th>civilian_targeting</th>\n",
              "      <th>notes</th>\n",
              "    </tr>\n",
              "  </thead>\n",
              "  <tbody>\n",
              "    <tr>\n",
              "      <th>0</th>\n",
              "      <td>0</td>\n",
              "      <td>On 3 May 2024, protesters held a large Houthi-...</td>\n",
              "    </tr>\n",
              "    <tr>\n",
              "      <th>1</th>\n",
              "      <td>0</td>\n",
              "      <td>On 3 May 2024, protesters held a large Houthi-...</td>\n",
              "    </tr>\n",
              "    <tr>\n",
              "      <th>2</th>\n",
              "      <td>0</td>\n",
              "      <td>On 3 May 2024, protesters held a large Houthi-...</td>\n",
              "    </tr>\n",
              "    <tr>\n",
              "      <th>3</th>\n",
              "      <td>0</td>\n",
              "      <td>On 3 May 2024, in Comodoro Rivadavia (Chubut),...</td>\n",
              "    </tr>\n",
              "    <tr>\n",
              "      <th>4</th>\n",
              "      <td>0</td>\n",
              "      <td>On 3 May 2024, a number of residents gathered ...</td>\n",
              "    </tr>\n",
              "    <tr>\n",
              "      <th>5</th>\n",
              "      <td>0</td>\n",
              "      <td>On 3 May 2024, JNIM militants attacked a posit...</td>\n",
              "    </tr>\n",
              "    <tr>\n",
              "      <th>6</th>\n",
              "      <td>1</td>\n",
              "      <td>On 3 May 2024, JNIM or IS Sahel militants kill...</td>\n",
              "    </tr>\n",
              "    <tr>\n",
              "      <th>7</th>\n",
              "      <td>0</td>\n",
              "      <td>On 3 May 2024, demonstrators, including Februa...</td>\n",
              "    </tr>\n",
              "    <tr>\n",
              "      <th>8</th>\n",
              "      <td>0</td>\n",
              "      <td>On 3 May 2024, demonstrators, including Februa...</td>\n",
              "    </tr>\n",
              "    <tr>\n",
              "      <th>9</th>\n",
              "      <td>0</td>\n",
              "      <td>On 3 May 2024, demonstrators, including Februa...</td>\n",
              "    </tr>\n",
              "    <tr>\n",
              "      <th>10</th>\n",
              "      <td>1</td>\n",
              "      <td>Around 3 May 2024 (as reported), in Oruro (Oru...</td>\n",
              "    </tr>\n",
              "    <tr>\n",
              "      <th>11</th>\n",
              "      <td>0</td>\n",
              "      <td>On 3 May 2024, in Salvador - Itapua (Brazil), ...</td>\n",
              "    </tr>\n",
              "    <tr>\n",
              "      <th>12</th>\n",
              "      <td>1</td>\n",
              "      <td>Around 3 May 2024 (as reported), in Brasilia -...</td>\n",
              "    </tr>\n",
              "    <tr>\n",
              "      <th>13</th>\n",
              "      <td>0</td>\n",
              "      <td>Security measures: On 3 May 2024, in Serra (Es...</td>\n",
              "    </tr>\n",
              "    <tr>\n",
              "      <th>14</th>\n",
              "      <td>0</td>\n",
              "      <td>On 3 May 2024, near Joao Lisboa (Maranhao), fo...</td>\n",
              "    </tr>\n",
              "    <tr>\n",
              "      <th>15</th>\n",
              "      <td>0</td>\n",
              "      <td>Property destruction: On 3 May 2024, in Jardim...</td>\n",
              "    </tr>\n",
              "    <tr>\n",
              "      <th>16</th>\n",
              "      <td>0</td>\n",
              "      <td>Property destruction: On 3 May 2024, in Ponta ...</td>\n",
              "    </tr>\n",
              "    <tr>\n",
              "      <th>17</th>\n",
              "      <td>1</td>\n",
              "      <td>On 3 May 2024, in Ananindeua (Para), two armed...</td>\n",
              "    </tr>\n",
              "    <tr>\n",
              "      <th>18</th>\n",
              "      <td>0</td>\n",
              "      <td>On 3 May 2024, in Benevides (Para), about 50 p...</td>\n",
              "    </tr>\n",
              "    <tr>\n",
              "      <th>19</th>\n",
              "      <td>0</td>\n",
              "      <td>On 3 May 2024, in Belford Roxo (Rio de Janeiro...</td>\n",
              "    </tr>\n",
              "  </tbody>\n",
              "</table>\n",
              "</div>\n",
              "    <div class=\"colab-df-buttons\">\n",
              "\n",
              "  <div class=\"colab-df-container\">\n",
              "    <button class=\"colab-df-convert\" onclick=\"convertToInteractive('df-22077ce9-e029-4f7b-aa8b-3372dfafce24')\"\n",
              "            title=\"Convert this dataframe to an interactive table.\"\n",
              "            style=\"display:none;\">\n",
              "\n",
              "  <svg xmlns=\"http://www.w3.org/2000/svg\" height=\"24px\" viewBox=\"0 -960 960 960\">\n",
              "    <path d=\"M120-120v-720h720v720H120Zm60-500h600v-160H180v160Zm220 220h160v-160H400v160Zm0 220h160v-160H400v160ZM180-400h160v-160H180v160Zm440 0h160v-160H620v160ZM180-180h160v-160H180v160Zm440 0h160v-160H620v160Z\"/>\n",
              "  </svg>\n",
              "    </button>\n",
              "\n",
              "  <style>\n",
              "    .colab-df-container {\n",
              "      display:flex;\n",
              "      gap: 12px;\n",
              "    }\n",
              "\n",
              "    .colab-df-convert {\n",
              "      background-color: #E8F0FE;\n",
              "      border: none;\n",
              "      border-radius: 50%;\n",
              "      cursor: pointer;\n",
              "      display: none;\n",
              "      fill: #1967D2;\n",
              "      height: 32px;\n",
              "      padding: 0 0 0 0;\n",
              "      width: 32px;\n",
              "    }\n",
              "\n",
              "    .colab-df-convert:hover {\n",
              "      background-color: #E2EBFA;\n",
              "      box-shadow: 0px 1px 2px rgba(60, 64, 67, 0.3), 0px 1px 3px 1px rgba(60, 64, 67, 0.15);\n",
              "      fill: #174EA6;\n",
              "    }\n",
              "\n",
              "    .colab-df-buttons div {\n",
              "      margin-bottom: 4px;\n",
              "    }\n",
              "\n",
              "    [theme=dark] .colab-df-convert {\n",
              "      background-color: #3B4455;\n",
              "      fill: #D2E3FC;\n",
              "    }\n",
              "\n",
              "    [theme=dark] .colab-df-convert:hover {\n",
              "      background-color: #434B5C;\n",
              "      box-shadow: 0px 1px 3px 1px rgba(0, 0, 0, 0.15);\n",
              "      filter: drop-shadow(0px 1px 2px rgba(0, 0, 0, 0.3));\n",
              "      fill: #FFFFFF;\n",
              "    }\n",
              "  </style>\n",
              "\n",
              "    <script>\n",
              "      const buttonEl =\n",
              "        document.querySelector('#df-22077ce9-e029-4f7b-aa8b-3372dfafce24 button.colab-df-convert');\n",
              "      buttonEl.style.display =\n",
              "        google.colab.kernel.accessAllowed ? 'block' : 'none';\n",
              "\n",
              "      async function convertToInteractive(key) {\n",
              "        const element = document.querySelector('#df-22077ce9-e029-4f7b-aa8b-3372dfafce24');\n",
              "        const dataTable =\n",
              "          await google.colab.kernel.invokeFunction('convertToInteractive',\n",
              "                                                    [key], {});\n",
              "        if (!dataTable) return;\n",
              "\n",
              "        const docLinkHtml = 'Like what you see? Visit the ' +\n",
              "          '<a target=\"_blank\" href=https://colab.research.google.com/notebooks/data_table.ipynb>data table notebook</a>'\n",
              "          + ' to learn more about interactive tables.';\n",
              "        element.innerHTML = '';\n",
              "        dataTable['output_type'] = 'display_data';\n",
              "        await google.colab.output.renderOutput(dataTable, element);\n",
              "        const docLink = document.createElement('div');\n",
              "        docLink.innerHTML = docLinkHtml;\n",
              "        element.appendChild(docLink);\n",
              "      }\n",
              "    </script>\n",
              "  </div>\n",
              "\n",
              "\n",
              "<div id=\"df-9edd6858-7dda-40b1-b6a1-652d8631bf5b\">\n",
              "  <button class=\"colab-df-quickchart\" onclick=\"quickchart('df-9edd6858-7dda-40b1-b6a1-652d8631bf5b')\"\n",
              "            title=\"Suggest charts\"\n",
              "            style=\"display:none;\">\n",
              "\n",
              "<svg xmlns=\"http://www.w3.org/2000/svg\" height=\"24px\"viewBox=\"0 0 24 24\"\n",
              "     width=\"24px\">\n",
              "    <g>\n",
              "        <path d=\"M19 3H5c-1.1 0-2 .9-2 2v14c0 1.1.9 2 2 2h14c1.1 0 2-.9 2-2V5c0-1.1-.9-2-2-2zM9 17H7v-7h2v7zm4 0h-2V7h2v10zm4 0h-2v-4h2v4z\"/>\n",
              "    </g>\n",
              "</svg>\n",
              "  </button>\n",
              "\n",
              "<style>\n",
              "  .colab-df-quickchart {\n",
              "      --bg-color: #E8F0FE;\n",
              "      --fill-color: #1967D2;\n",
              "      --hover-bg-color: #E2EBFA;\n",
              "      --hover-fill-color: #174EA6;\n",
              "      --disabled-fill-color: #AAA;\n",
              "      --disabled-bg-color: #DDD;\n",
              "  }\n",
              "\n",
              "  [theme=dark] .colab-df-quickchart {\n",
              "      --bg-color: #3B4455;\n",
              "      --fill-color: #D2E3FC;\n",
              "      --hover-bg-color: #434B5C;\n",
              "      --hover-fill-color: #FFFFFF;\n",
              "      --disabled-bg-color: #3B4455;\n",
              "      --disabled-fill-color: #666;\n",
              "  }\n",
              "\n",
              "  .colab-df-quickchart {\n",
              "    background-color: var(--bg-color);\n",
              "    border: none;\n",
              "    border-radius: 50%;\n",
              "    cursor: pointer;\n",
              "    display: none;\n",
              "    fill: var(--fill-color);\n",
              "    height: 32px;\n",
              "    padding: 0;\n",
              "    width: 32px;\n",
              "  }\n",
              "\n",
              "  .colab-df-quickchart:hover {\n",
              "    background-color: var(--hover-bg-color);\n",
              "    box-shadow: 0 1px 2px rgba(60, 64, 67, 0.3), 0 1px 3px 1px rgba(60, 64, 67, 0.15);\n",
              "    fill: var(--button-hover-fill-color);\n",
              "  }\n",
              "\n",
              "  .colab-df-quickchart-complete:disabled,\n",
              "  .colab-df-quickchart-complete:disabled:hover {\n",
              "    background-color: var(--disabled-bg-color);\n",
              "    fill: var(--disabled-fill-color);\n",
              "    box-shadow: none;\n",
              "  }\n",
              "\n",
              "  .colab-df-spinner {\n",
              "    border: 2px solid var(--fill-color);\n",
              "    border-color: transparent;\n",
              "    border-bottom-color: var(--fill-color);\n",
              "    animation:\n",
              "      spin 1s steps(1) infinite;\n",
              "  }\n",
              "\n",
              "  @keyframes spin {\n",
              "    0% {\n",
              "      border-color: transparent;\n",
              "      border-bottom-color: var(--fill-color);\n",
              "      border-left-color: var(--fill-color);\n",
              "    }\n",
              "    20% {\n",
              "      border-color: transparent;\n",
              "      border-left-color: var(--fill-color);\n",
              "      border-top-color: var(--fill-color);\n",
              "    }\n",
              "    30% {\n",
              "      border-color: transparent;\n",
              "      border-left-color: var(--fill-color);\n",
              "      border-top-color: var(--fill-color);\n",
              "      border-right-color: var(--fill-color);\n",
              "    }\n",
              "    40% {\n",
              "      border-color: transparent;\n",
              "      border-right-color: var(--fill-color);\n",
              "      border-top-color: var(--fill-color);\n",
              "    }\n",
              "    60% {\n",
              "      border-color: transparent;\n",
              "      border-right-color: var(--fill-color);\n",
              "    }\n",
              "    80% {\n",
              "      border-color: transparent;\n",
              "      border-right-color: var(--fill-color);\n",
              "      border-bottom-color: var(--fill-color);\n",
              "    }\n",
              "    90% {\n",
              "      border-color: transparent;\n",
              "      border-bottom-color: var(--fill-color);\n",
              "    }\n",
              "  }\n",
              "</style>\n",
              "\n",
              "  <script>\n",
              "    async function quickchart(key) {\n",
              "      const quickchartButtonEl =\n",
              "        document.querySelector('#' + key + ' button');\n",
              "      quickchartButtonEl.disabled = true;  // To prevent multiple clicks.\n",
              "      quickchartButtonEl.classList.add('colab-df-spinner');\n",
              "      try {\n",
              "        const charts = await google.colab.kernel.invokeFunction(\n",
              "            'suggestCharts', [key], {});\n",
              "      } catch (error) {\n",
              "        console.error('Error during call to suggestCharts:', error);\n",
              "      }\n",
              "      quickchartButtonEl.classList.remove('colab-df-spinner');\n",
              "      quickchartButtonEl.classList.add('colab-df-quickchart-complete');\n",
              "    }\n",
              "    (() => {\n",
              "      let quickchartButtonEl =\n",
              "        document.querySelector('#df-9edd6858-7dda-40b1-b6a1-652d8631bf5b button');\n",
              "      quickchartButtonEl.style.display =\n",
              "        google.colab.kernel.accessAllowed ? 'block' : 'none';\n",
              "    })();\n",
              "  </script>\n",
              "</div>\n",
              "\n",
              "    </div>\n",
              "  </div>\n"
            ],
            "application/vnd.google.colaboratory.intrinsic+json": {
              "type": "dataframe",
              "variable_name": "df",
              "summary": "{\n  \"name\": \"df\",\n  \"rows\": 5000,\n  \"fields\": [\n    {\n      \"column\": \"civilian_targeting\",\n      \"properties\": {\n        \"dtype\": \"number\",\n        \"std\": 0,\n        \"min\": 0,\n        \"max\": 1,\n        \"num_unique_values\": 2,\n        \"samples\": [\n          1,\n          0\n        ],\n        \"semantic_type\": \"\",\n        \"description\": \"\"\n      }\n    },\n    {\n      \"column\": \"notes\",\n      \"properties\": {\n        \"dtype\": \"string\",\n        \"num_unique_values\": 4997,\n        \"samples\": [\n          \"Around 3 May 2024 (as reported), a mob stormed a man's homestead and set property of unknown value ablaze in Shinyalu (Shinyalu, Kakamega), accusing the man of involvement in the killing of their kin, following a land dispute.\",\n          \"On 29 April 2024, QSD forces detained an unspecified number of aid workers at the Hole Camp in the countryside of Al Hasakeh following the smuggling of a woman from the foreigners' section outside the camp two days ago.\"\n        ],\n        \"semantic_type\": \"\",\n        \"description\": \"\"\n      }\n    }\n  ]\n}"
            }
          },
          "metadata": {},
          "execution_count": 4
        }
      ],
      "source": [
        "#Labeling classes by imputing 1 for civilian targeting and 0 for not civilian targeting (nan)\n",
        "import numpy as np\n",
        "df['civilian_targeting'] = df['civilian_targeting'].astype(str)\n",
        "df['civilian_targeting'] = np.where(df['civilian_targeting'].str.contains('Civilian targeting', na=False), 1, 0)\n",
        "df.head(20)"
      ]
    },
    {
      "cell_type": "code",
      "execution_count": 5,
      "metadata": {
        "colab": {
          "base_uri": "https://localhost:8080/",
          "height": 472
        },
        "id": "GcYldekYCIeT",
        "outputId": "3b8d721f-2867-45e0-987b-3ee8d08dc559"
      },
      "outputs": [
        {
          "output_type": "display_data",
          "data": {
            "text/plain": [
              "<Figure size 640x480 with 1 Axes>"
            ],
            "image/png": "[encoded data removed]"
          },
          "metadata": {}
        }
      ],
      "source": [
        "import seaborn as sns\n",
        "import matplotlib.pyplot as plt\n",
        "\n",
        "# If using pandas DataFrame\n",
        "sns.countplot(x='civilian_targeting', data=df)\n",
        "plt.title('Class Distribution')\n",
        "plt.show()"
      ]
    },
    {
      "cell_type": "code",
      "source": [
        "# Get unique classes\n",
        "unique_classes = df['civilian_targeting'].unique()\n",
        "print(\"Unique classes in the dataset:\", unique_classes)\n",
        "\n",
        "# Count of each class\n",
        "class_counts = df['civilian_targeting'].value_counts()\n",
        "print(\"Count of each class:\\n\", class_counts)"
      ],
      "metadata": {
        "colab": {
          "base_uri": "https://localhost:8080/"
        },
        "id": "62lq1Uyb4wVR",
        "outputId": "031f48b3-b8e2-495d-de1b-a6f9f974e592"
      },
      "execution_count": 6,
      "outputs": [
        {
          "output_type": "stream",
          "name": "stdout",
          "text": [
            "Unique classes in the dataset: [0 1]\n",
            "Count of each class:\n",
            " civilian_targeting\n",
            "0    4549\n",
            "1     451\n",
            "Name: count, dtype: int64\n"
          ]
        }
      ]
    },
    {
      "cell_type": "markdown",
      "source": [
        "*Creating a balanced dataset*"
      ],
      "metadata": {
        "id": "9iv-EDql2piY"
      }
    },
    {
      "cell_type": "code",
      "source": [
        "count_class_0, count_class_1 = df['civilian_targeting'].value_counts()\n",
        "\n",
        "# Divide by class\n",
        "df_class_0 = df[df['civilian_targeting'] == 0]\n",
        "df_class_1 = df[df['civilian_targeting'] == 1]\n",
        "\n",
        "# Randomly sample from the majority class\n",
        "df_class_0_under = df_class_0.sample(count_class_1)\n",
        "df = pd.concat([df_class_0_under, df_class_1], axis=0)\n",
        "\n",
        "print(df['civilian_targeting'].value_counts())  # This should now be balanced"
      ],
      "metadata": {
        "colab": {
          "base_uri": "https://localhost:8080/"
        },
        "id": "_-q4t5Z9522W",
        "outputId": "b5fc5d7f-fc29-4bdc-eba5-1effe32a70b3"
      },
      "execution_count": 7,
      "outputs": [
        {
          "output_type": "stream",
          "name": "stdout",
          "text": [
            "civilian_targeting\n",
            "0    451\n",
            "1    451\n",
            "Name: count, dtype: int64\n"
          ]
        }
      ]
    },
    {
      "cell_type": "markdown",
      "source": [
        "*Exploratory Data Analysis*"
      ],
      "metadata": {
        "id": "8s-KNaW_VdLI"
      }
    },
    {
      "cell_type": "code",
      "execution_count": 8,
      "metadata": {
        "colab": {
          "base_uri": "https://localhost:8080/"
        },
        "id": "DwP3JSLIEnn7",
        "outputId": "d6273218-1c8c-4970-b92e-10aea7324cd4"
      },
      "outputs": [
        {
          "output_type": "stream",
          "name": "stdout",
          "text": [
            "count    902.000000\n",
            "mean      42.594235\n",
            "std       22.177407\n",
            "min       12.000000\n",
            "25%       28.000000\n",
            "50%       38.500000\n",
            "75%       52.000000\n",
            "max      241.000000\n",
            "Name: sequence_length, dtype: float64\n",
            "civilian_targeting\n",
            "0    451\n",
            "1    451\n",
            "Name: count, dtype: int64\n"
          ]
        }
      ],
      "source": [
        "df['sequence_length'] = df['notes'].apply(lambda x: len(x.split()))\n",
        "# Display summary statistics\n",
        "print(df['sequence_length'].describe())\n",
        "\n",
        "#Number of elements in each class\n",
        "class_counts = df['civilian_targeting'].value_counts()\n",
        "print(class_counts)"
      ]
    },
    {
      "cell_type": "code",
      "source": [
        "# Plotting the distribution\n",
        "plt.figure(figsize=(10, 6))\n",
        "plt.hist(df['sequence_length'], bins=100, alpha=0.7)\n",
        "plt.title('Distribution of Sequence Lengths')\n",
        "plt.xlabel('Sequence Length')\n",
        "plt.ylabel('Frequency')\n",
        "plt.show()"
      ],
      "metadata": {
        "colab": {
          "base_uri": "https://localhost:8080/",
          "height": 564
        },
        "id": "1mq5zm5gNhUy",
        "outputId": "f18b4d38-a7f6-4b40-849f-72d25eeb34f9"
      },
      "execution_count": 9,
      "outputs": [
        {
          "output_type": "display_data",
          "data": {
            "text/plain": [
              "<Figure size 1000x600 with 1 Axes>"
            ],
            "image/png": "[encoded data removed]"
          },
          "metadata": {}
        }
      ]
    },
    {
      "cell_type": "markdown",
      "metadata": {
        "id": "uXIHBp1Fckx0"
      },
      "source": [
        "*Splitting the Data for Training, Validation and Testing*"
      ]
    },
    {
      "cell_type": "markdown",
      "source": [
        "**Classifying with a simple sequential model **"
      ],
      "metadata": {
        "id": "TAQD4Ma_Yd1j"
      }
    },
    {
      "cell_type": "code",
      "execution_count": 10,
      "metadata": {
        "colab": {
          "base_uri": "https://localhost:8080/"
        },
        "id": "gkDo0tw6cmgf",
        "outputId": "c95b503a-06c6-4be6-a341-3c1070527666"
      },
      "outputs": [
        {
          "output_type": "stream",
          "name": "stdout",
          "text": [
            "Training Set:\n",
            "civilian_targeting\n",
            "1    270\n",
            "0    270\n",
            "Name: count, dtype: int64\n",
            "Validation Set:\n",
            "civilian_targeting\n",
            "1    91\n",
            "0    90\n",
            "Name: count, dtype: int64\n",
            "Test Set:\n",
            "civilian_targeting\n",
            "0    91\n",
            "1    90\n",
            "Name: count, dtype: int64\n"
          ]
        }
      ],
      "source": [
        "from sklearn.model_selection import train_test_split\n",
        "\n",
        "# Define the proportions for splits\n",
        "test_size = 0.2  # 20% for testing\n",
        "validation_size = 0.25  # 25% of the remaining 80% (i.e., 20% of total) for validation\n",
        "\n",
        "# First split to separate out the test dataset\n",
        "train_val, test = train_test_split(df, test_size=test_size, stratify=df['civilian_targeting'], random_state=42)\n",
        "\n",
        "# Second split to separate out the validation dataset from the remaining training dataset\n",
        "train, val = train_test_split(train_val, test_size=validation_size, stratify=train_val['civilian_targeting'], random_state=42)\n",
        "\n",
        "# Print the size of each split to verify correct proportions\n",
        "print(\"Training Set:\")\n",
        "print(train['civilian_targeting'].value_counts())\n",
        "\n",
        "print(\"Validation Set:\")\n",
        "print(val['civilian_targeting'].value_counts())\n",
        "\n",
        "print(\"Test Set:\")\n",
        "print(test['civilian_targeting'].value_counts())"
      ]
    },
    {
      "cell_type": "markdown",
      "metadata": {
        "id": "-NFF8IA0L3ku"
      },
      "source": [
        "*Training a sequential model*"
      ]
    },
    {
      "cell_type": "markdown",
      "metadata": {
        "id": "8ZGv2Yb4d2Xp"
      },
      "source": [
        "*Tokenizing from Text to Sequences*"
      ]
    },
    {
      "cell_type": "code",
      "execution_count": 38,
      "metadata": {
        "id": "GmBOdVrld3SM"
      },
      "outputs": [],
      "source": [
        "import tensorflow as tf\n",
        "from tensorflow.keras.preprocessing.text import Tokenizer\n",
        "from tensorflow.keras.preprocessing.sequence import pad_sequences\n",
        "\n",
        "# Initialize the tokenizer\n",
        "tokenizer = Tokenizer(num_words=10000)  # Keeps the 10,000 most frequent words\n",
        "tokenizer.fit_on_texts(train['notes'])  # Fit the tokenizer on the training data\n",
        "\n",
        "# Tokenize and convert to sequences\n",
        "train_sequences = tokenizer.texts_to_sequences(train['notes'])\n",
        "val_sequences = tokenizer.texts_to_sequences(val['notes'])\n",
        "test_sequences = tokenizer.texts_to_sequences(test['notes'])\n",
        "\n",
        "# Pad sequences to ensure uniform length\n",
        "max_length = max(len(x) for x in train_sequences)\n",
        "\n",
        "train_padded = pad_sequences(train_sequences, maxlen=max_length)\n",
        "val_padded = pad_sequences(val_sequences, maxlen=max_length)\n",
        "test_padded = pad_sequences(test_sequences, maxlen=max_length)\n",
        "\n",
        "# Convert labels to tensors\n",
        "train_labels = tf.convert_to_tensor(train['civilian_targeting'])\n",
        "val_labels = tf.convert_to_tensor(val['civilian_targeting'])\n",
        "test_labels = tf.convert_to_tensor(test['civilian_targeting'])"
      ]
    },
    {
      "cell_type": "code",
      "source": [
        "inputs = keras.Input(shape=(None,), dtype=\"int64\")\n",
        "embedded = layers.Embedding(\n",
        "    input_dim=max_tokens, output_dim=256, mask_zero=True)(inputs)\n",
        "x = layers.Bidirectional(layers.LSTM(32))(embedded)\n",
        "x = layers.Dropout(0.5)(x)\n",
        "outputs = layers.Dense(1, activation=\"sigmoid\")(x)\n",
        "model = keras.Model(inputs, outputs)\n",
        "model.compile(optimizer=\"rmsprop\",\n",
        "              loss=\"binary_crossentropy\",\n",
        "              metrics=[\"accuracy\"])\n",
        "model.summary()\n",
        "\n",
        "history = model.fit(train_padded, train_labels, epochs=20, validation_data=(val_padded, val_labels))"
      ],
      "metadata": {
        "colab": {
          "base_uri": "https://localhost:8080/"
        },
        "id": "zGP6N9V4iWI9",
        "outputId": "710631a9-c20c-4a65-9714-3fbf352a6a8a"
      },
      "execution_count": 52,
      "outputs": [
        {
          "output_type": "stream",
          "name": "stdout",
          "text": [
            "Model: \"model_9\"\n",
            "_________________________________________________________________\n",
            " Layer (type)                Output Shape              Param #   \n",
            "=================================================================\n",
            " input_16 (InputLayer)       [(None, None)]            0         \n",
            "                                                                 \n",
            " embedding_9 (Embedding)     (None, None, 256)         5120000   \n",
            "                                                                 \n",
            " bidirectional_8 (Bidirecti  (None, 64)                73984     \n",
            " onal)                                                           \n",
            "                                                                 \n",
            " dropout_11 (Dropout)        (None, 64)                0         \n",
            "                                                                 \n",
            " dense_11 (Dense)            (None, 1)                 65        \n",
            "                                                                 \n",
            "=================================================================\n",
            "Total params: 5194049 (19.81 MB)\n",
            "Trainable params: 5194049 (19.81 MB)\n",
            "Non-trainable params: 0 (0.00 Byte)\n",
            "_________________________________________________________________\n",
            "Epoch 1/20\n",
            "17/17 [==============================] - 16s 414ms/step - loss: 0.6859 - accuracy: 0.5833 - val_loss: 0.6787 - val_accuracy: 0.5525\n",
            "Epoch 2/20\n",
            "17/17 [==============================] - 5s 266ms/step - loss: 0.6611 - accuracy: 0.6611 - val_loss: 0.6562 - val_accuracy: 0.6409\n",
            "Epoch 3/20\n",
            "17/17 [==============================] - 4s 224ms/step - loss: 0.6101 - accuracy: 0.7222 - val_loss: 0.5816 - val_accuracy: 0.7017\n",
            "Epoch 4/20\n",
            "17/17 [==============================] - 4s 245ms/step - loss: 0.5155 - accuracy: 0.7648 - val_loss: 0.5144 - val_accuracy: 0.7569\n",
            "Epoch 5/20\n",
            "17/17 [==============================] - 5s 288ms/step - loss: 0.4185 - accuracy: 0.8296 - val_loss: 0.4478 - val_accuracy: 0.7901\n",
            "Epoch 6/20\n",
            "17/17 [==============================] - 4s 222ms/step - loss: 0.3610 - accuracy: 0.8426 - val_loss: 0.4164 - val_accuracy: 0.8453\n",
            "Epoch 7/20\n",
            "17/17 [==============================] - 4s 217ms/step - loss: 0.3255 - accuracy: 0.8481 - val_loss: 0.3996 - val_accuracy: 0.8398\n",
            "Epoch 8/20\n",
            "17/17 [==============================] - 5s 329ms/step - loss: 0.2792 - accuracy: 0.8870 - val_loss: 0.3777 - val_accuracy: 0.8729\n",
            "Epoch 9/20\n",
            "17/17 [==============================] - 4s 223ms/step - loss: 0.2993 - accuracy: 0.8741 - val_loss: 0.3689 - val_accuracy: 0.8619\n",
            "Epoch 10/20\n",
            "17/17 [==============================] - 4s 220ms/step - loss: 0.2504 - accuracy: 0.9019 - val_loss: 0.3611 - val_accuracy: 0.8729\n",
            "Epoch 11/20\n",
            "17/17 [==============================] - 5s 287ms/step - loss: 0.2574 - accuracy: 0.8833 - val_loss: 0.3515 - val_accuracy: 0.8785\n",
            "Epoch 12/20\n",
            "17/17 [==============================] - 4s 229ms/step - loss: 0.2299 - accuracy: 0.9037 - val_loss: 0.3725 - val_accuracy: 0.8729\n",
            "Epoch 13/20\n",
            "17/17 [==============================] - 4s 223ms/step - loss: 0.2090 - accuracy: 0.9130 - val_loss: 0.3750 - val_accuracy: 0.8674\n",
            "Epoch 14/20\n",
            "17/17 [==============================] - 4s 252ms/step - loss: 0.2339 - accuracy: 0.9056 - val_loss: 0.3591 - val_accuracy: 0.8729\n",
            "Epoch 15/20\n",
            "17/17 [==============================] - 5s 284ms/step - loss: 0.2004 - accuracy: 0.9167 - val_loss: 0.3589 - val_accuracy: 0.8729\n",
            "Epoch 16/20\n",
            "17/17 [==============================] - 4s 246ms/step - loss: 0.2129 - accuracy: 0.9185 - val_loss: 0.3576 - val_accuracy: 0.8895\n",
            "Epoch 17/20\n",
            "17/17 [==============================] - 5s 269ms/step - loss: 0.1870 - accuracy: 0.9148 - val_loss: 0.3771 - val_accuracy: 0.8674\n",
            "Epoch 18/20\n",
            "17/17 [==============================] - 5s 287ms/step - loss: 0.1933 - accuracy: 0.9185 - val_loss: 0.3609 - val_accuracy: 0.8895\n",
            "Epoch 19/20\n",
            "17/17 [==============================] - 4s 214ms/step - loss: 0.1716 - accuracy: 0.9241 - val_loss: 0.3879 - val_accuracy: 0.8674\n",
            "Epoch 20/20\n",
            "17/17 [==============================] - 4s 214ms/step - loss: 0.1870 - accuracy: 0.9259 - val_loss: 0.3904 - val_accuracy: 0.8840\n"
          ]
        }
      ]
    },
    {
      "cell_type": "code",
      "source": [
        "test_loss, test_acc = model.evaluate(test_padded, test_labels)\n",
        "print(f'Test Accuracy: {test_acc:.4f}')"
      ],
      "metadata": {
        "colab": {
          "base_uri": "https://localhost:8080/"
        },
        "id": "bBZ-dg3vKGNc",
        "outputId": "b81b038a-c03c-4563-cc7f-379ef1d26a3b"
      },
      "execution_count": 53,
      "outputs": [
        {
          "output_type": "stream",
          "name": "stdout",
          "text": [
            "6/6 [==============================] - 0s 43ms/step - loss: 0.2918 - accuracy: 0.8895\n",
            "Test Accuracy: 0.8895\n"
          ]
        }
      ]
    },
    {
      "cell_type": "markdown",
      "metadata": {
        "id": "eH7NUiNjhy0o"
      },
      "source": [
        "**Using bigrams**"
      ]
    },
    {
      "cell_type": "markdown",
      "source": [
        "Tokenizing bigrams"
      ],
      "metadata": {
        "id": "_8xyE8tcy5I8"
      }
    },
    {
      "cell_type": "code",
      "source": [
        "import tensorflow as tf\n",
        "from tensorflow.keras.preprocessing.text import Tokenizer\n",
        "from tensorflow.keras.preprocessing.sequence import pad_sequences\n",
        "from tensorflow.keras.preprocessing.text import text_to_word_sequence\n",
        "\n",
        "# Function to convert text into bigrams\n",
        "def create_bigrams(texts):\n",
        "    bigram_list = []\n",
        "    for text in texts:\n",
        "        words = text_to_word_sequence(text)\n",
        "        bigrams = [' '.join(words[i:i+2]) for i in range(len(words)-1)]\n",
        "        bigram_list.append(bigrams)\n",
        "    return bigram_list\n",
        "\n",
        "# Initialize the tokenizer with a custom function to handle tokenization\n",
        "tokenizer = Tokenizer(num_words=10000)\n",
        "\n",
        "# Prepare the text data by creating bigrams\n",
        "train_bigrams = create_bigrams(train['notes'])\n",
        "val_bigrams = create_bigrams(val['notes'])\n",
        "test_bigrams = create_bigrams(test['notes'])\n",
        "\n",
        "# Fit the tokenizer on the training bigrams\n",
        "tokenizer.fit_on_texts(train_bigrams)\n",
        "\n",
        "# Tokenize and convert to sequences\n",
        "train_sequences = tokenizer.texts_to_sequences(train_bigrams)\n",
        "val_sequences = tokenizer.texts_to_sequences(val_bigrams)\n",
        "test_sequences = tokenizer.texts_to_sequences(test_bigrams)\n",
        "\n",
        "# Pad sequences to ensure uniform length\n",
        "max_length = max(len(x) for x in train_sequences)\n",
        "\n",
        "train_padded = pad_sequences(train_sequences, maxlen=max_length)\n",
        "val_padded = pad_sequences(val_sequences, maxlen=max_length)\n",
        "test_padded = pad_sequences(test_sequences, maxlen=max_length)\n",
        "\n",
        "# Convert labels to tensors\n",
        "train_labels = tf.convert_to_tensor(train['civilian_targeting'])\n",
        "val_labels = tf.convert_to_tensor(val['civilian_targeting'])\n",
        "test_labels = tf.convert_to_tensor(test['civilian_targeting'])"
      ],
      "metadata": {
        "id": "7hdPM0Xcy7Bk"
      },
      "execution_count": 42,
      "outputs": []
    },
    {
      "cell_type": "code",
      "source": [
        "max_value = np.max(train_padded)\n",
        "train_padded = np.clip(train_padded, 0, 240)"
      ],
      "metadata": {
        "id": "OBT-5RwV0rSu"
      },
      "execution_count": 43,
      "outputs": []
    },
    {
      "cell_type": "code",
      "source": [
        "import tensorflow as tf\n",
        "from tensorflow import keras\n",
        "from tensorflow.keras import layers\n",
        "\n",
        "max_tokens = 20000  # Example, adjust based on your tokenizer configuration\n",
        "\n",
        "# Define input tensor\n",
        "inputs = keras.Input(shape=(None,), dtype=\"int64\")\n",
        "\n",
        "# Embedding layer:\n",
        "embedded = layers.Embedding(\n",
        "    input_dim=max_tokens, output_dim=256, mask_zero=True)(inputs)\n",
        "\n",
        "# LSTM layer: Using Bidirectional LSTM to better capture the context from both directions\n",
        "x = layers.Bidirectional(layers.LSTM(32))(embedded)\n",
        "\n",
        "# Dropout to prevent overfitting\n",
        "x = layers.Dropout(0.5)(x)\n",
        "\n",
        "# Output layer: Sigmoid activation for binary classification\n",
        "outputs = layers.Dense(1, activation=\"sigmoid\")(x)\n",
        "\n",
        "# Create the model\n",
        "model = keras.Model(inputs, outputs)\n",
        "\n",
        "# Compile the model with RMSprop optimizer and binary crossentropy loss\n",
        "model.compile(optimizer=\"rmsprop\",\n",
        "              loss=\"binary_crossentropy\",\n",
        "              metrics=[\"accuracy\"])\n",
        "\n",
        "# Display model summary\n",
        "model.summary()\n",
        "\n",
        "# Fit the model\n",
        "history = model.fit(train_padded, train_labels, epochs=20, validation_data=(val_padded, val_labels))"
      ],
      "metadata": {
        "colab": {
          "base_uri": "https://localhost:8080/"
        },
        "id": "APxz627mzTgu",
        "outputId": "f1ac6400-9462-42b9-b828-c24314eb786b"
      },
      "execution_count": 44,
      "outputs": [
        {
          "output_type": "stream",
          "name": "stdout",
          "text": [
            "Model: \"model_8\"\n",
            "_________________________________________________________________\n",
            " Layer (type)                Output Shape              Param #   \n",
            "=================================================================\n",
            " input_15 (InputLayer)       [(None, None)]            0         \n",
            "                                                                 \n",
            " embedding_8 (Embedding)     (None, None, 256)         5120000   \n",
            "                                                                 \n",
            " bidirectional_7 (Bidirecti  (None, 64)                73984     \n",
            " onal)                                                           \n",
            "                                                                 \n",
            " dropout_10 (Dropout)        (None, 64)                0         \n",
            "                                                                 \n",
            " dense_10 (Dense)            (None, 1)                 65        \n",
            "                                                                 \n",
            "=================================================================\n",
            "Total params: 5194049 (19.81 MB)\n",
            "Trainable params: 5194049 (19.81 MB)\n",
            "Non-trainable params: 0 (0.00 Byte)\n",
            "_________________________________________________________________\n",
            "Epoch 1/20\n",
            "17/17 [==============================] - 17s 518ms/step - loss: 0.6854 - accuracy: 0.5685 - val_loss: 0.6746 - val_accuracy: 0.6133\n",
            "Epoch 2/20\n",
            "17/17 [==============================] - 4s 260ms/step - loss: 0.6491 - accuracy: 0.6889 - val_loss: 0.6416 - val_accuracy: 0.6630\n",
            "Epoch 3/20\n",
            "17/17 [==============================] - 5s 277ms/step - loss: 0.5962 - accuracy: 0.7074 - val_loss: 0.5848 - val_accuracy: 0.6961\n",
            "Epoch 4/20\n",
            "17/17 [==============================] - 5s 283ms/step - loss: 0.5175 - accuracy: 0.7796 - val_loss: 0.5084 - val_accuracy: 0.7735\n",
            "Epoch 5/20\n",
            "17/17 [==============================] - 5s 272ms/step - loss: 0.4107 - accuracy: 0.8296 - val_loss: 0.4539 - val_accuracy: 0.7901\n",
            "Epoch 6/20\n",
            "17/17 [==============================] - 5s 275ms/step - loss: 0.3461 - accuracy: 0.8444 - val_loss: 0.4171 - val_accuracy: 0.8177\n",
            "Epoch 7/20\n",
            "17/17 [==============================] - 4s 218ms/step - loss: 0.3257 - accuracy: 0.8500 - val_loss: 0.4004 - val_accuracy: 0.8398\n",
            "Epoch 8/20\n",
            "17/17 [==============================] - 4s 226ms/step - loss: 0.2788 - accuracy: 0.8833 - val_loss: 0.3800 - val_accuracy: 0.8453\n",
            "Epoch 9/20\n",
            "17/17 [==============================] - 6s 328ms/step - loss: 0.2765 - accuracy: 0.8852 - val_loss: 0.3737 - val_accuracy: 0.8564\n",
            "Epoch 10/20\n",
            "17/17 [==============================] - 4s 224ms/step - loss: 0.2496 - accuracy: 0.8944 - val_loss: 0.3741 - val_accuracy: 0.8508\n",
            "Epoch 11/20\n",
            "17/17 [==============================] - 4s 226ms/step - loss: 0.2339 - accuracy: 0.9000 - val_loss: 0.3648 - val_accuracy: 0.8564\n",
            "Epoch 12/20\n",
            "17/17 [==============================] - 6s 342ms/step - loss: 0.2272 - accuracy: 0.9000 - val_loss: 0.3518 - val_accuracy: 0.8674\n",
            "Epoch 13/20\n",
            "17/17 [==============================] - 4s 223ms/step - loss: 0.2309 - accuracy: 0.8944 - val_loss: 0.3524 - val_accuracy: 0.8729\n",
            "Epoch 14/20\n",
            "17/17 [==============================] - 4s 216ms/step - loss: 0.1889 - accuracy: 0.9167 - val_loss: 0.3509 - val_accuracy: 0.8840\n",
            "Epoch 15/20\n",
            "17/17 [==============================] - 5s 301ms/step - loss: 0.2105 - accuracy: 0.9130 - val_loss: 0.3587 - val_accuracy: 0.8785\n",
            "Epoch 16/20\n",
            "17/17 [==============================] - 4s 219ms/step - loss: 0.2200 - accuracy: 0.9074 - val_loss: 0.3633 - val_accuracy: 0.8674\n",
            "Epoch 17/20\n",
            "17/17 [==============================] - 4s 223ms/step - loss: 0.1821 - accuracy: 0.9204 - val_loss: 0.3714 - val_accuracy: 0.8729\n",
            "Epoch 18/20\n",
            "17/17 [==============================] - 5s 273ms/step - loss: 0.2091 - accuracy: 0.9167 - val_loss: 0.3645 - val_accuracy: 0.8674\n",
            "Epoch 19/20\n",
            "17/17 [==============================] - 5s 265ms/step - loss: 0.1686 - accuracy: 0.9259 - val_loss: 0.3675 - val_accuracy: 0.8785\n",
            "Epoch 20/20\n",
            "17/17 [==============================] - 4s 219ms/step - loss: 0.1727 - accuracy: 0.9185 - val_loss: 0.3794 - val_accuracy: 0.8840\n"
          ]
        }
      ]
    },
    {
      "cell_type": "code",
      "source": [
        "test_loss, test_acc = model.evaluate(test_padded, test_labels)\n",
        "print(f'Test Accuracy: {test_acc:.4f}')"
      ],
      "metadata": {
        "colab": {
          "base_uri": "https://localhost:8080/"
        },
        "outputId": "3b22b9bc-e84d-49ec-a99a-4041fca4e712",
        "id": "eHbH8tF6DHDO"
      },
      "execution_count": 46,
      "outputs": [
        {
          "output_type": "stream",
          "name": "stdout",
          "text": [
            "6/6 [==============================] - 0s 42ms/step - loss: 0.2975 - accuracy: 0.8895\n",
            "Test Accuracy: 0.8895\n"
          ]
        }
      ]
    },
    {
      "cell_type": "markdown",
      "source": [
        "**Using a Transformer architecture**"
      ],
      "metadata": {
        "id": "QGG1RbUGP0e8"
      }
    },
    {
      "cell_type": "code",
      "source": [
        "import tensorflow as tf\n",
        "from tensorflow import keras\n",
        "from tensorflow.keras import layers"
      ],
      "metadata": {
        "id": "KVQIqOMRP0FU"
      },
      "execution_count": 47,
      "outputs": []
    },
    {
      "cell_type": "code",
      "source": [
        "def transformer_encoder(inputs, num_heads, ff_dim, rate=0.1):\n",
        "    # Multi-head attention\n",
        "    attention_output = layers.MultiHeadAttention(num_heads=num_heads, key_dim=ff_dim)(inputs, inputs)\n",
        "    attention_output = layers.Dropout(rate)(attention_output)\n",
        "    attention_output = layers.LayerNormalization(epsilon=1e-6)(inputs + attention_output)\n",
        "\n",
        "    # Feed-forward layer\n",
        "    ff_output = keras.Sequential([\n",
        "        layers.Dense(ff_dim, activation=\"relu\"),\n",
        "        layers.Dense(inputs.shape[-1]),\n",
        "        layers.Dropout(rate)\n",
        "    ])(attention_output)\n",
        "    ff_output = layers.LayerNormalization(epsilon=1e-6)(attention_output + ff_output)\n",
        "\n",
        "    return ff_output"
      ],
      "metadata": {
        "id": "wH0DRrAQP7iA"
      },
      "execution_count": 48,
      "outputs": []
    },
    {
      "cell_type": "code",
      "source": [
        "history = model.fit(train_padded, train_labels, epochs=20, validation_data=(val_padded, val_labels))"
      ],
      "metadata": {
        "colab": {
          "base_uri": "https://localhost:8080/"
        },
        "id": "J5LONkkSRsqU",
        "outputId": "8b689a83-b08f-4794-9aaf-6602a3ba3721"
      },
      "execution_count": 49,
      "outputs": [
        {
          "output_type": "stream",
          "name": "stdout",
          "text": [
            "Epoch 1/20\n",
            "17/17 [==============================] - 4s 228ms/step - loss: 0.1675 - accuracy: 0.9204 - val_loss: 0.3835 - val_accuracy: 0.8619\n",
            "Epoch 2/20\n",
            "17/17 [==============================] - 8s 466ms/step - loss: 0.1578 - accuracy: 0.9444 - val_loss: 0.3835 - val_accuracy: 0.8785\n",
            "Epoch 3/20\n",
            "17/17 [==============================] - 6s 362ms/step - loss: 0.2027 - accuracy: 0.9130 - val_loss: 0.4046 - val_accuracy: 0.8564\n",
            "Epoch 4/20\n",
            "17/17 [==============================] - 4s 246ms/step - loss: 0.1501 - accuracy: 0.9370 - val_loss: 0.4037 - val_accuracy: 0.8674\n",
            "Epoch 5/20\n",
            "17/17 [==============================] - 5s 293ms/step - loss: 0.1706 - accuracy: 0.9370 - val_loss: 0.3989 - val_accuracy: 0.8619\n",
            "Epoch 6/20\n",
            "17/17 [==============================] - 4s 222ms/step - loss: 0.1394 - accuracy: 0.9333 - val_loss: 0.4177 - val_accuracy: 0.8564\n",
            "Epoch 7/20\n",
            "17/17 [==============================] - 4s 229ms/step - loss: 0.1446 - accuracy: 0.9463 - val_loss: 0.4276 - val_accuracy: 0.8564\n",
            "Epoch 8/20\n",
            "17/17 [==============================] - 5s 331ms/step - loss: 0.1411 - accuracy: 0.9444 - val_loss: 0.4286 - val_accuracy: 0.8619\n",
            "Epoch 9/20\n",
            "17/17 [==============================] - 4s 227ms/step - loss: 0.1372 - accuracy: 0.9444 - val_loss: 0.4595 - val_accuracy: 0.8564\n",
            "Epoch 10/20\n",
            "17/17 [==============================] - 4s 221ms/step - loss: 0.1414 - accuracy: 0.9333 - val_loss: 0.4767 - val_accuracy: 0.8564\n",
            "Epoch 11/20\n",
            "17/17 [==============================] - 5s 320ms/step - loss: 0.1268 - accuracy: 0.9389 - val_loss: 0.4979 - val_accuracy: 0.8564\n",
            "Epoch 12/20\n",
            "17/17 [==============================] - 4s 223ms/step - loss: 0.1281 - accuracy: 0.9370 - val_loss: 0.4891 - val_accuracy: 0.8508\n",
            "Epoch 13/20\n",
            "17/17 [==============================] - 4s 221ms/step - loss: 0.1386 - accuracy: 0.9444 - val_loss: 0.4853 - val_accuracy: 0.8564\n",
            "Epoch 14/20\n",
            "17/17 [==============================] - 5s 279ms/step - loss: 0.1414 - accuracy: 0.9370 - val_loss: 0.4626 - val_accuracy: 0.8729\n",
            "Epoch 15/20\n",
            "17/17 [==============================] - 4s 262ms/step - loss: 0.1178 - accuracy: 0.9519 - val_loss: 0.4752 - val_accuracy: 0.8508\n",
            "Epoch 16/20\n",
            "17/17 [==============================] - 4s 218ms/step - loss: 0.1230 - accuracy: 0.9444 - val_loss: 0.4956 - val_accuracy: 0.8619\n",
            "Epoch 17/20\n",
            "17/17 [==============================] - 4s 246ms/step - loss: 0.1244 - accuracy: 0.9426 - val_loss: 0.4916 - val_accuracy: 0.8619\n",
            "Epoch 18/20\n",
            "17/17 [==============================] - 5s 297ms/step - loss: 0.1224 - accuracy: 0.9407 - val_loss: 0.4882 - val_accuracy: 0.8619\n",
            "Epoch 19/20\n",
            "17/17 [==============================] - 4s 225ms/step - loss: 0.1093 - accuracy: 0.9389 - val_loss: 0.5161 - val_accuracy: 0.8564\n",
            "Epoch 20/20\n",
            "17/17 [==============================] - 4s 223ms/step - loss: 0.1286 - accuracy: 0.9426 - val_loss: 0.5092 - val_accuracy: 0.8619\n"
          ]
        }
      ]
    },
    {
      "cell_type": "code",
      "source": [
        "est_loss, test_acc = model.evaluate(test_padded, test_labels)\n",
        "print(f'Test Accuracy: {test_acc:.4f}')"
      ],
      "metadata": {
        "colab": {
          "base_uri": "https://localhost:8080/"
        },
        "id": "uf5Xtr3ST6DC",
        "outputId": "1b8b1823-1f7e-40cf-ef52-00e814d4d0b2"
      },
      "execution_count": 50,
      "outputs": [
        {
          "output_type": "stream",
          "name": "stdout",
          "text": [
            "6/6 [==============================] - 0s 43ms/step - loss: 0.3259 - accuracy: 0.9061\n",
            "Test Accuracy: 0.9061\n"
          ]
        }
      ]
    }
  ],
  "metadata": {
    "colab": {
      "provenance": [],
      "authorship_tag": "ABX9TyMUOelgP2iP7vETIFCWqmc+",
      "include_colab_link": true
    },
    "kernelspec": {
      "display_name": "Python 3",
      "name": "python3"
    },
    "language_info": {
      "name": "python"
    }
  },
  "nbformat": 4,
  "nbformat_minor": 0
}