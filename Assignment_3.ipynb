{
  "nbformat": 4,
  "nbformat_minor": 0,
  "metadata": {
    "colab": {
      "provenance": [],
      "authorship_tag": "ABX9TyNeKLgMeDWE2tE63L4HnqwY",
      "include_colab_link": true
    },
    "kernelspec": {
      "name": "python3",
      "display_name": "Python 3"
    },
    "language_info": {
      "name": "python"
    }
  },
  "cells": [
    {
      "cell_type": "markdown",
      "metadata": {
        "id": "view-in-github",
        "colab_type": "text"
      },
      "source": [
        "<a href=\"https://colab.research.google.com/github/ngochif/fngochi_64061/blob/main/Assignment_3.ipynb\" target=\"_parent\"><img src=\"https://colab.research.google.com/assets/colab-badge.svg\" alt=\"Open In Colab\"/></a>"
      ]
    },
    {
      "cell_type": "markdown",
      "source": [
        "Time Series"
      ],
      "metadata": {
        "id": "NRVPEdIWDXcc"
      }
    },
    {
      "cell_type": "code",
      "execution_count": 3,
      "metadata": {
        "colab": {
          "base_uri": "https://localhost:8080/"
        },
        "id": "5sjnwha8DRJp",
        "outputId": "6a023121-c45a-4bb0-b3aa-83b1bb195a10"
      },
      "outputs": [
        {
          "output_type": "stream",
          "name": "stdout",
          "text": [
            "--2024-04-01 09:31:22--  https://s3.amazonaws.com/keras-datasets/jena_climate_2009_2016.csv.zip\n",
            "Resolving s3.amazonaws.com (s3.amazonaws.com)... 52.217.84.62, 54.231.197.224, 54.231.139.248, ...\n",
            "Connecting to s3.amazonaws.com (s3.amazonaws.com)|52.217.84.62|:443... connected.\n",
            "HTTP request sent, awaiting response... 200 OK\n",
            "Length: 13565642 (13M) [application/zip]\n",
            "Saving to: ‘jena_climate_2009_2016.csv.zip’\n",
            "\n",
            "\r          jena_clim   0%[                    ]       0  --.-KB/s               \rjena_climate_2009_2 100%[===================>]  12.94M  --.-KB/s    in 0.09s   \n",
            "\n",
            "2024-04-01 09:31:23 (140 MB/s) - ‘jena_climate_2009_2016.csv.zip’ saved [13565642/13565642]\n",
            "\n",
            "Archive:  jena_climate_2009_2016.csv.zip\n",
            "  inflating: jena_climate_2009_2016.csv  \n",
            "  inflating: __MACOSX/._jena_climate_2009_2016.csv  \n"
          ]
        }
      ],
      "source": [
        "!wget https://s3.amazonaws.com/keras-datasets/jena_climate_2009_2016.csv.zip\n",
        "!unzip jena_climate_2009_2016.csv.zip"
      ]
    },
    {
      "cell_type": "markdown",
      "source": [
        "Inspecting the data"
      ],
      "metadata": {
        "id": "w-BvTPhCDvmB"
      }
    },
    {
      "cell_type": "code",
      "source": [
        "import os\n",
        "fname = os.path.join(\"jena_climate_2009_2016.csv\")\n",
        "\n",
        "with open(fname) as f:\n",
        "    data = f.read()\n",
        "\n",
        "lines = data.split(\"\\n\")\n",
        "header = lines[0].split(\",\")\n",
        "lines = lines[1:]\n",
        "print(header)\n",
        "print(len(lines))"
      ],
      "metadata": {
        "colab": {
          "base_uri": "https://localhost:8080/"
        },
        "id": "OCNJkdUiDxW_",
        "outputId": "30bc30ef-cf54-4bab-dc23-6c16462591a2"
      },
      "execution_count": 4,
      "outputs": [
        {
          "output_type": "stream",
          "name": "stdout",
          "text": [
            "['\"Date Time\"', '\"p (mbar)\"', '\"T (degC)\"', '\"Tpot (K)\"', '\"Tdew (degC)\"', '\"rh (%)\"', '\"VPmax (mbar)\"', '\"VPact (mbar)\"', '\"VPdef (mbar)\"', '\"sh (g/kg)\"', '\"H2OC (mmol/mol)\"', '\"rho (g/m**3)\"', '\"wv (m/s)\"', '\"max. wv (m/s)\"', '\"wd (deg)\"']\n",
            "420451\n"
          ]
        }
      ]
    },
    {
      "cell_type": "markdown",
      "source": [
        "Parsing the data"
      ],
      "metadata": {
        "id": "73vO3GGjD3_n"
      }
    },
    {
      "cell_type": "code",
      "source": [
        "import numpy as np\n",
        "temperature = np.zeros((len(lines),))\n",
        "raw_data = np.zeros((len(lines), len(header) - 1))\n",
        "for i, line in enumerate(lines):\n",
        "    values = [float(x) for x in line.split(\",\")[1:]]\n",
        "    temperature[i] = values[1]\n",
        "    raw_data[i, :] = values[:]"
      ],
      "metadata": {
        "id": "-vw66lnvD8Wj"
      },
      "execution_count": 5,
      "outputs": []
    },
    {
      "cell_type": "markdown",
      "source": [
        "Plotting the temperature timeseries"
      ],
      "metadata": {
        "id": "Jeljjk1cEBOr"
      }
    },
    {
      "cell_type": "code",
      "source": [
        "from matplotlib import pyplot as plt\n",
        "plt.plot(range(len(temperature)), temperature)"
      ],
      "metadata": {
        "colab": {
          "base_uri": "https://localhost:8080/",
          "height": 451
        },
        "id": "aw5Uoju1EEYf",
        "outputId": "a23fd1b9-ab68-48d7-fe64-c2e1a59a4c78"
      },
      "execution_count": 6,
      "outputs": [
        {
          "output_type": "execute_result",
          "data": {
            "text/plain": [
              "[<matplotlib.lines.Line2D at 0x7fad51d141f0>]"
            ]
          },
          "metadata": {},
          "execution_count": 6
        },
        {
          "output_type": "display_data",
          "data": {
            "text/plain": [
              "<Figure size 640x480 with 1 Axes>"
            ],
            "image/png": "[encoded data removed]"
          },
          "metadata": {}
        }
      ]
    },
    {
      "cell_type": "markdown",
      "source": [],
      "metadata": {
        "id": "6dG2_cm1FDbQ"
      }
    },
    {
      "cell_type": "code",
      "source": [
        "num_train_samples = int(0.5 * len(raw_data))\n",
        "num_val_samples = int(0.25 * len(raw_data))\n",
        "num_test_samples = len(raw_data) - num_train_samples - num_val_samples\n",
        "print(\"num_train_samples:\", num_train_samples)\n",
        "print(\"num_val_samples:\", num_val_samples)\n",
        "print(\"num_test_samples:\", num_test_samples)"
      ],
      "metadata": {
        "colab": {
          "base_uri": "https://localhost:8080/"
        },
        "id": "oTgzrUbgFEBO",
        "outputId": "67f319c5-f543-41d7-e917-7589c8c06718"
      },
      "execution_count": 7,
      "outputs": [
        {
          "output_type": "stream",
          "name": "stdout",
          "text": [
            "num_train_samples: 210225\n",
            "num_val_samples: 105112\n",
            "num_test_samples: 105114\n"
          ]
        }
      ]
    },
    {
      "cell_type": "markdown",
      "source": [
        "PREPARING THE DATA"
      ],
      "metadata": {
        "id": "hA2CPg0AFLyU"
      }
    },
    {
      "cell_type": "markdown",
      "source": [
        "Normalizing Data"
      ],
      "metadata": {
        "id": "TOCfHiVAFOEe"
      }
    },
    {
      "cell_type": "code",
      "source": [
        "mean = raw_data[:num_train_samples].mean(axis=0)\n",
        "raw_data -= mean\n",
        "std = raw_data[:num_train_samples].std(axis=0)\n",
        "raw_data /= std"
      ],
      "metadata": {
        "id": "g_Ojk0DxFUAJ"
      },
      "execution_count": 8,
      "outputs": []
    },
    {
      "cell_type": "code",
      "source": [
        "import numpy as np\n",
        "from tensorflow import keras\n",
        "int_sequence = np.arange(10)\n",
        "dummy_dataset = keras.utils.timeseries_dataset_from_array(\n",
        "    data=int_sequence[:-3],\n",
        "    targets=int_sequence[3:],\n",
        "    sequence_length=3,\n",
        "    batch_size=2,\n",
        ")\n",
        "\n",
        "for inputs, targets in dummy_dataset:\n",
        "    for i in range(inputs.shape[0]):\n",
        "        print([int(x) for x in inputs[i]], int(targets[i]))"
      ],
      "metadata": {
        "colab": {
          "base_uri": "https://localhost:8080/"
        },
        "id": "aTAzI9hCFbUD",
        "outputId": "793a4262-c98c-47a0-9ce6-ccd7aced649f"
      },
      "execution_count": 9,
      "outputs": [
        {
          "output_type": "stream",
          "name": "stdout",
          "text": [
            "[0, 1, 2] 3\n",
            "[1, 2, 3] 4\n",
            "[2, 3, 4] 5\n",
            "[3, 4, 5] 6\n",
            "[4, 5, 6] 7\n"
          ]
        }
      ]
    },
    {
      "cell_type": "markdown",
      "source": [
        "Instantiating dataset"
      ],
      "metadata": {
        "id": "pJdOrg4aFkWT"
      }
    },
    {
      "cell_type": "code",
      "source": [
        "sampling_rate = 6\n",
        "sequence_length = 120\n",
        "delay = sampling_rate * (sequence_length + 24 - 1)\n",
        "batch_size = 256\n",
        "\n",
        "train_dataset = keras.utils.timeseries_dataset_from_array(\n",
        "    raw_data[:-delay],\n",
        "    targets=temperature[delay:],\n",
        "    sampling_rate=sampling_rate,\n",
        "    sequence_length=sequence_length,\n",
        "    shuffle=True,\n",
        "    batch_size=batch_size,\n",
        "    start_index=0,\n",
        "    end_index=num_train_samples)\n",
        "\n",
        "val_dataset = keras.utils.timeseries_dataset_from_array(\n",
        "    raw_data[:-delay],\n",
        "    targets=temperature[delay:],\n",
        "    sampling_rate=sampling_rate,\n",
        "    sequence_length=sequence_length,\n",
        "    shuffle=True,\n",
        "    batch_size=batch_size,\n",
        "    start_index=num_train_samples,\n",
        "    end_index=num_train_samples + num_val_samples)\n",
        "\n",
        "test_dataset = keras.utils.timeseries_dataset_from_array(\n",
        "    raw_data[:-delay],\n",
        "    targets=temperature[delay:],\n",
        "    sampling_rate=sampling_rate,\n",
        "    sequence_length=sequence_length,\n",
        "    shuffle=True,\n",
        "    batch_size=batch_size,\n",
        "    start_index=num_train_samples + num_val_samples)"
      ],
      "metadata": {
        "id": "wHoKTRTwFm4R"
      },
      "execution_count": 10,
      "outputs": []
    },
    {
      "cell_type": "markdown",
      "source": [
        "Adjusting the number of units in stacked RNN with dropout"
      ],
      "metadata": {
        "id": "B3csJMssHLFw"
      }
    },
    {
      "cell_type": "markdown",
      "source": [
        "**Original discussed in class**"
      ],
      "metadata": {
        "id": "OLurIUu_Hje3"
      }
    },
    {
      "cell_type": "code",
      "source": [
        "from tensorflow import keras\n",
        "from tensorflow.keras import layers\n",
        "inputs = keras.Input(shape=(sequence_length, raw_data.shape[-1]))\n",
        "x = layers.GRU(32, recurrent_dropout=0.5, return_sequences=True)(inputs)\n",
        "x = layers.GRU(32, recurrent_dropout=0.5)(x)\n",
        "x = layers.Dropout(0.5)(x)\n",
        "outputs = layers.Dense(1)(x)\n",
        "model = keras.Model(inputs, outputs)\n",
        "\n",
        "callbacks = [\n",
        "    keras.callbacks.ModelCheckpoint(\"jena_stacked_gru_dropout_original.keras\",\n",
        "                                    save_best_only=True)\n",
        "]\n",
        "model.compile(optimizer=\"rmsprop\", loss=\"mse\", metrics=[\"mae\"])\n",
        "history = model.fit(train_dataset,\n",
        "                    epochs=50,\n",
        "                    validation_data=val_dataset,\n",
        "                    callbacks=callbacks)\n",
        "model = keras.models.load_model(\"jena_stacked_gru_dropout_original.keras\")\n",
        "print(f\"Test MAE: {model.evaluate(test_dataset)[1]:.2f}\")"
      ],
      "metadata": {
        "colab": {
          "base_uri": "https://localhost:8080/"
        },
        "id": "UNd56QNnHoEu",
        "outputId": "0934c293-060a-483e-b75c-178068d111c1"
      },
      "execution_count": 11,
      "outputs": [
        {
          "output_type": "stream",
          "name": "stdout",
          "text": [
            "Epoch 1/50\n",
            "819/819 [==============================] - 310s 372ms/step - loss: 27.3849 - mae: 3.8268 - val_loss: 9.7472 - val_mae: 2.4227\n",
            "Epoch 2/50\n",
            "819/819 [==============================] - 289s 353ms/step - loss: 14.0189 - mae: 2.8949 - val_loss: 8.9462 - val_mae: 2.3229\n",
            "Epoch 3/50\n",
            "819/819 [==============================] - 283s 345ms/step - loss: 13.1383 - mae: 2.8120 - val_loss: 9.4118 - val_mae: 2.3877\n",
            "Epoch 4/50\n",
            "819/819 [==============================] - 276s 337ms/step - loss: 12.5235 - mae: 2.7451 - val_loss: 9.4429 - val_mae: 2.3945\n",
            "Epoch 5/50\n",
            "819/819 [==============================] - 314s 383ms/step - loss: 12.1121 - mae: 2.6999 - val_loss: 8.9298 - val_mae: 2.3218\n",
            "Epoch 6/50\n",
            "819/819 [==============================] - 311s 378ms/step - loss: 11.6557 - mae: 2.6522 - val_loss: 8.7014 - val_mae: 2.2851\n",
            "Epoch 7/50\n",
            "819/819 [==============================] - 308s 376ms/step - loss: 11.2648 - mae: 2.6077 - val_loss: 8.9762 - val_mae: 2.3288\n",
            "Epoch 8/50\n",
            "819/819 [==============================] - 309s 376ms/step - loss: 10.9521 - mae: 2.5735 - val_loss: 9.2931 - val_mae: 2.3625\n",
            "Epoch 9/50\n",
            "819/819 [==============================] - 307s 375ms/step - loss: 10.6113 - mae: 2.5319 - val_loss: 9.2954 - val_mae: 2.3536\n",
            "Epoch 10/50\n",
            "819/819 [==============================] - 309s 377ms/step - loss: 10.3480 - mae: 2.5005 - val_loss: 9.1878 - val_mae: 2.3561\n",
            "Epoch 11/50\n",
            "819/819 [==============================] - 307s 374ms/step - loss: 10.0152 - mae: 2.4643 - val_loss: 9.6825 - val_mae: 2.4073\n",
            "Epoch 12/50\n",
            "819/819 [==============================] - 308s 375ms/step - loss: 9.7537 - mae: 2.4291 - val_loss: 10.6758 - val_mae: 2.5431\n",
            "Epoch 13/50\n",
            "819/819 [==============================] - 308s 375ms/step - loss: 9.5586 - mae: 2.4024 - val_loss: 10.1570 - val_mae: 2.4887\n",
            "Epoch 14/50\n",
            "819/819 [==============================] - 301s 367ms/step - loss: 9.3127 - mae: 2.3758 - val_loss: 10.3596 - val_mae: 2.4863\n",
            "Epoch 15/50\n",
            "819/819 [==============================] - 307s 375ms/step - loss: 9.1487 - mae: 2.3545 - val_loss: 10.5737 - val_mae: 2.5068\n",
            "Epoch 16/50\n",
            "819/819 [==============================] - 305s 373ms/step - loss: 8.9637 - mae: 2.3284 - val_loss: 10.4761 - val_mae: 2.5047\n",
            "Epoch 17/50\n",
            "819/819 [==============================] - 307s 375ms/step - loss: 8.8190 - mae: 2.3115 - val_loss: 11.3007 - val_mae: 2.6069\n",
            "Epoch 18/50\n",
            "819/819 [==============================] - 306s 373ms/step - loss: 8.6605 - mae: 2.2873 - val_loss: 11.1198 - val_mae: 2.5821\n",
            "Epoch 19/50\n",
            "819/819 [==============================] - 287s 350ms/step - loss: 8.4987 - mae: 2.2689 - val_loss: 11.5889 - val_mae: 2.6236\n",
            "Epoch 20/50\n",
            "819/819 [==============================] - 293s 357ms/step - loss: 8.4086 - mae: 2.2545 - val_loss: 11.8820 - val_mae: 2.6417\n",
            "Epoch 21/50\n",
            "819/819 [==============================] - 279s 340ms/step - loss: 8.2849 - mae: 2.2397 - val_loss: 11.2270 - val_mae: 2.5970\n",
            "Epoch 22/50\n",
            "819/819 [==============================] - 295s 360ms/step - loss: 8.1704 - mae: 2.2211 - val_loss: 11.4393 - val_mae: 2.6100\n",
            "Epoch 23/50\n",
            "819/819 [==============================] - 300s 366ms/step - loss: 8.0923 - mae: 2.2106 - val_loss: 12.1494 - val_mae: 2.7150\n",
            "Epoch 24/50\n",
            "819/819 [==============================] - 296s 361ms/step - loss: 7.9813 - mae: 2.1992 - val_loss: 11.8288 - val_mae: 2.6580\n",
            "Epoch 25/50\n",
            "819/819 [==============================] - 306s 374ms/step - loss: 7.8849 - mae: 2.1816 - val_loss: 11.0973 - val_mae: 2.5912\n",
            "Epoch 26/50\n",
            "819/819 [==============================] - 306s 373ms/step - loss: 7.8289 - mae: 2.1739 - val_loss: 11.6192 - val_mae: 2.6398\n",
            "Epoch 27/50\n",
            "819/819 [==============================] - 306s 373ms/step - loss: 7.7704 - mae: 2.1646 - val_loss: 12.0758 - val_mae: 2.7142\n",
            "Epoch 28/50\n",
            "819/819 [==============================] - 304s 371ms/step - loss: 7.6849 - mae: 2.1532 - val_loss: 11.8354 - val_mae: 2.6866\n",
            "Epoch 29/50\n",
            "819/819 [==============================] - 307s 375ms/step - loss: 7.6171 - mae: 2.1442 - val_loss: 12.3019 - val_mae: 2.7302\n",
            "Epoch 30/50\n",
            "819/819 [==============================] - 304s 372ms/step - loss: 7.5485 - mae: 2.1341 - val_loss: 11.8414 - val_mae: 2.6752\n",
            "Epoch 31/50\n",
            "819/819 [==============================] - 306s 374ms/step - loss: 7.5290 - mae: 2.1300 - val_loss: 11.3082 - val_mae: 2.6186\n",
            "Epoch 32/50\n",
            "819/819 [==============================] - 303s 370ms/step - loss: 7.4898 - mae: 2.1245 - val_loss: 11.9347 - val_mae: 2.6781\n",
            "Epoch 33/50\n",
            "819/819 [==============================] - 300s 366ms/step - loss: 7.4030 - mae: 2.1142 - val_loss: 11.8339 - val_mae: 2.6790\n",
            "Epoch 34/50\n",
            "819/819 [==============================] - 306s 373ms/step - loss: 7.3930 - mae: 2.1106 - val_loss: 11.4488 - val_mae: 2.6274\n",
            "Epoch 35/50\n",
            "819/819 [==============================] - 302s 368ms/step - loss: 7.3655 - mae: 2.1065 - val_loss: 11.6185 - val_mae: 2.6690\n",
            "Epoch 36/50\n",
            "819/819 [==============================] - 281s 343ms/step - loss: 7.2959 - mae: 2.0964 - val_loss: 11.7972 - val_mae: 2.6675\n",
            "Epoch 37/50\n",
            "819/819 [==============================] - 304s 371ms/step - loss: 7.2138 - mae: 2.0812 - val_loss: 11.9212 - val_mae: 2.6975\n",
            "Epoch 38/50\n",
            "819/819 [==============================] - 291s 355ms/step - loss: 7.1980 - mae: 2.0830 - val_loss: 12.0424 - val_mae: 2.7198\n",
            "Epoch 39/50\n",
            "819/819 [==============================] - 284s 347ms/step - loss: 7.1176 - mae: 2.0683 - val_loss: 11.7713 - val_mae: 2.6826\n",
            "Epoch 40/50\n",
            "819/819 [==============================] - 303s 370ms/step - loss: 7.1076 - mae: 2.0662 - val_loss: 12.4583 - val_mae: 2.7694\n",
            "Epoch 41/50\n",
            "819/819 [==============================] - 328s 400ms/step - loss: 7.0810 - mae: 2.0632 - val_loss: 12.1187 - val_mae: 2.7169\n",
            "Epoch 42/50\n",
            "819/819 [==============================] - 300s 366ms/step - loss: 7.0059 - mae: 2.0523 - val_loss: 12.5396 - val_mae: 2.7724\n",
            "Epoch 43/50\n",
            "819/819 [==============================] - 304s 371ms/step - loss: 7.0052 - mae: 2.0524 - val_loss: 12.1133 - val_mae: 2.7188\n",
            "Epoch 44/50\n",
            "819/819 [==============================] - 302s 368ms/step - loss: 6.9840 - mae: 2.0482 - val_loss: 12.6696 - val_mae: 2.7969\n",
            "Epoch 45/50\n",
            "819/819 [==============================] - 301s 368ms/step - loss: 6.9646 - mae: 2.0451 - val_loss: 12.0837 - val_mae: 2.7269\n",
            "Epoch 46/50\n",
            "819/819 [==============================] - 306s 373ms/step - loss: 6.9333 - mae: 2.0410 - val_loss: 11.9518 - val_mae: 2.7090\n",
            "Epoch 47/50\n",
            "819/819 [==============================] - 303s 370ms/step - loss: 6.8900 - mae: 2.0334 - val_loss: 12.2281 - val_mae: 2.7341\n",
            "Epoch 48/50\n",
            "819/819 [==============================] - 287s 350ms/step - loss: 6.8851 - mae: 2.0337 - val_loss: 12.0595 - val_mae: 2.7107\n",
            "Epoch 49/50\n",
            "819/819 [==============================] - 284s 347ms/step - loss: 6.8542 - mae: 2.0265 - val_loss: 12.3100 - val_mae: 2.7445\n",
            "Epoch 50/50\n",
            "819/819 [==============================] - 297s 363ms/step - loss: 6.7723 - mae: 2.0159 - val_loss: 12.2008 - val_mae: 2.7382\n",
            "405/405 [==============================] - 41s 98ms/step - loss: 9.3424 - mae: 2.4007\n",
            "Test MAE: 2.40\n"
          ]
        }
      ]
    },
    {
      "cell_type": "markdown",
      "source": [
        "Plotting Original Stacked Model"
      ],
      "metadata": {
        "id": "dU82HII4Za4Q"
      }
    },
    {
      "cell_type": "code",
      "source": [
        "import matplotlib.pyplot as plt\n",
        "loss = history.history[\"mae\"]\n",
        "val_loss = history.history[\"val_mae\"]\n",
        "epochs = range(1, len(loss) + 1)\n",
        "plt.figure()\n",
        "plt.plot(epochs, loss, \"bo\", label=\"Training MAE Original\")\n",
        "plt.plot(epochs, val_loss, \"b\", label=\"Validation MAE Original\")\n",
        "plt.title(\"Training and validation MAE Original\")\n",
        "plt.legend()\n",
        "plt.show()"
      ],
      "metadata": {
        "colab": {
          "base_uri": "https://localhost:8080/",
          "height": 452
        },
        "id": "k66RMNYi5dM_",
        "outputId": "a8631ecf-b328-455a-d24f-7b2f81c5c35d"
      },
      "execution_count": 12,
      "outputs": [
        {
          "output_type": "display_data",
          "data": {
            "text/plain": [
              "<Figure size 640x480 with 1 Axes>"
            ],
            "image/png": "[encoded data removed]"
          },
          "metadata": {}
        }
      ]
    },
    {
      "cell_type": "markdown",
      "source": [
        "Adding more units to the recurrent layer"
      ],
      "metadata": {
        "id": "VZNj204oY2Js"
      }
    },
    {
      "cell_type": "code",
      "source": [
        "from tensorflow import keras\n",
        "from tensorflow.keras import layers\n",
        "inputs = keras.Input(shape=(sequence_length, raw_data.shape[-1]))\n",
        "x = layers.GRU(18, recurrent_dropout=0.5, return_sequences=True)(inputs)\n",
        "x = layers.GRU(18, recurrent_dropout=0.5)(x)\n",
        "x = layers.Dropout(0.5)(x)\n",
        "outputs = layers.Dense(1)(x)\n",
        "model = keras.Model(inputs, outputs)\n",
        "\n",
        "callbacks = [\n",
        "    keras.callbacks.ModelCheckpoint(\"jena_stacked_gru_dropout.keras\",\n",
        "                                    save_best_only=True)\n",
        "]\n",
        "model.compile(optimizer=\"rmsprop\", loss=\"mse\", metrics=[\"mae\"])\n",
        "history = model.fit(train_dataset,\n",
        "                    epochs=50,\n",
        "                    validation_data=val_dataset,\n",
        "                    callbacks=callbacks)\n",
        "model = keras.models.load_model(\"jena_stacked_gru_dropout.keras\")\n",
        "print(f\"Test MAE: {model.evaluate(test_dataset)[1]:.2f}\")"
      ],
      "metadata": {
        "colab": {
          "base_uri": "https://localhost:8080/"
        },
        "id": "P2a4kbUD5nVw",
        "outputId": "efa38033-ed6c-4ae5-cda3-3d1b670405bf"
      },
      "execution_count": null,
      "outputs": [
        {
          "output_type": "stream",
          "name": "stdout",
          "text": [
            "Epoch 1/50\n",
            "819/819 [==============================] - 292s 348ms/step - loss: 41.4634 - mae: 4.7495 - val_loss: 11.9007 - val_mae: 2.6036\n",
            "Epoch 2/50\n",
            "819/819 [==============================] - 279s 340ms/step - loss: 17.7859 - mae: 3.2314 - val_loss: 10.0197 - val_mae: 2.4587\n",
            "Epoch 3/50\n",
            "819/819 [==============================] - 279s 341ms/step - loss: 16.4263 - mae: 3.1112 - val_loss: 9.2867 - val_mae: 2.3776\n",
            "Epoch 4/50\n",
            "819/819 [==============================] - 279s 340ms/step - loss: 15.6781 - mae: 3.0422 - val_loss: 9.0039 - val_mae: 2.3390\n",
            "Epoch 5/50\n",
            "819/819 [==============================] - 278s 339ms/step - loss: 15.0931 - mae: 2.9902 - val_loss: 9.3159 - val_mae: 2.3893\n",
            "Epoch 6/50\n",
            "819/819 [==============================] - 278s 339ms/step - loss: 14.5063 - mae: 2.9349 - val_loss: 8.7614 - val_mae: 2.3000\n",
            "Epoch 7/50\n",
            "819/819 [==============================] - 278s 339ms/step - loss: 14.0851 - mae: 2.8959 - val_loss: 8.7380 - val_mae: 2.3016\n",
            "Epoch 8/50\n",
            "819/819 [==============================] - 278s 339ms/step - loss: 13.6288 - mae: 2.8477 - val_loss: 8.4926 - val_mae: 2.2737\n",
            "Epoch 9/50\n",
            "819/819 [==============================] - 271s 330ms/step - loss: 13.3908 - mae: 2.8281 - val_loss: 8.7176 - val_mae: 2.3020\n",
            "Epoch 10/50\n",
            "819/819 [==============================] - 280s 341ms/step - loss: 13.1493 - mae: 2.8034 - val_loss: 8.5716 - val_mae: 2.2795\n",
            "Epoch 11/50\n",
            "819/819 [==============================] - 277s 338ms/step - loss: 12.7882 - mae: 2.7680 - val_loss: 8.8971 - val_mae: 2.3300\n",
            "Epoch 12/50\n",
            "819/819 [==============================] - 278s 339ms/step - loss: 12.6992 - mae: 2.7590 - val_loss: 8.7040 - val_mae: 2.2988\n",
            "Epoch 13/50\n",
            "819/819 [==============================] - 273s 333ms/step - loss: 12.4993 - mae: 2.7363 - val_loss: 8.5542 - val_mae: 2.2741\n",
            "Epoch 14/50\n",
            "819/819 [==============================] - 280s 341ms/step - loss: 12.3834 - mae: 2.7246 - val_loss: 8.5753 - val_mae: 2.2766\n",
            "Epoch 15/50\n",
            "819/819 [==============================] - 276s 336ms/step - loss: 12.1927 - mae: 2.7080 - val_loss: 8.8679 - val_mae: 2.3202\n",
            "Epoch 16/50\n",
            "819/819 [==============================] - 270s 330ms/step - loss: 12.1348 - mae: 2.6976 - val_loss: 8.5436 - val_mae: 2.2758\n",
            "Epoch 17/50\n",
            "819/819 [==============================] - 276s 337ms/step - loss: 11.9819 - mae: 2.6800 - val_loss: 8.6209 - val_mae: 2.2908\n",
            "Epoch 18/50\n",
            "819/819 [==============================] - 272s 332ms/step - loss: 11.9985 - mae: 2.6813 - val_loss: 8.5401 - val_mae: 2.2809\n",
            "Epoch 19/50\n",
            "819/819 [==============================] - 272s 332ms/step - loss: 11.8237 - mae: 2.6634 - val_loss: 8.7248 - val_mae: 2.3062\n",
            "Epoch 20/50\n",
            "819/819 [==============================] - 278s 339ms/step - loss: 11.7393 - mae: 2.6557 - val_loss: 8.8744 - val_mae: 2.3330\n",
            "Epoch 21/50\n",
            "819/819 [==============================] - 270s 329ms/step - loss: 11.7114 - mae: 2.6521 - val_loss: 8.7351 - val_mae: 2.3019\n",
            "Epoch 22/50\n",
            "819/819 [==============================] - 270s 329ms/step - loss: 11.6971 - mae: 2.6495 - val_loss: 8.7846 - val_mae: 2.3111\n",
            "Epoch 23/50\n",
            "819/819 [==============================] - 276s 337ms/step - loss: 11.5751 - mae: 2.6346 - val_loss: 8.9196 - val_mae: 2.3289\n",
            "Epoch 24/50\n",
            "819/819 [==============================] - 271s 331ms/step - loss: 11.6113 - mae: 2.6418 - val_loss: 9.1440 - val_mae: 2.3576\n",
            "Epoch 25/50\n",
            "819/819 [==============================] - 268s 327ms/step - loss: 11.5676 - mae: 2.6366 - val_loss: 8.9107 - val_mae: 2.3270\n",
            "Epoch 26/50\n",
            "819/819 [==============================] - 276s 336ms/step - loss: 11.4682 - mae: 2.6239 - val_loss: 8.9994 - val_mae: 2.3419\n",
            "Epoch 27/50\n",
            "819/819 [==============================] - 273s 333ms/step - loss: 11.4456 - mae: 2.6246 - val_loss: 9.0188 - val_mae: 2.3509\n",
            "Epoch 28/50\n",
            "819/819 [==============================] - 275s 335ms/step - loss: 11.4172 - mae: 2.6188 - val_loss: 9.0185 - val_mae: 2.3470\n",
            "Epoch 29/50\n",
            "819/819 [==============================] - 277s 338ms/step - loss: 11.3182 - mae: 2.6051 - val_loss: 8.9955 - val_mae: 2.3472\n",
            "Epoch 30/50\n",
            "819/819 [==============================] - 279s 341ms/step - loss: 11.3134 - mae: 2.6090 - val_loss: 9.1184 - val_mae: 2.3632\n",
            "Epoch 31/50\n",
            "819/819 [==============================] - 279s 341ms/step - loss: 11.2660 - mae: 2.6000 - val_loss: 9.0545 - val_mae: 2.3524\n",
            "Epoch 32/50\n",
            "819/819 [==============================] - 280s 342ms/step - loss: 11.2179 - mae: 2.5944 - val_loss: 9.2276 - val_mae: 2.3815\n",
            "Epoch 33/50\n",
            "819/819 [==============================] - 280s 341ms/step - loss: 11.1705 - mae: 2.5875 - val_loss: 9.6026 - val_mae: 2.4358\n",
            "Epoch 34/50\n",
            "819/819 [==============================] - 280s 341ms/step - loss: 11.1305 - mae: 2.5863 - val_loss: 9.3139 - val_mae: 2.4030\n",
            "Epoch 35/50\n",
            "819/819 [==============================] - 278s 339ms/step - loss: 11.0778 - mae: 2.5796 - val_loss: 9.8047 - val_mae: 2.4692\n",
            "Epoch 36/50\n",
            "819/819 [==============================] - 281s 342ms/step - loss: 11.0888 - mae: 2.5804 - val_loss: 9.4551 - val_mae: 2.4100\n",
            "Epoch 37/50\n",
            "819/819 [==============================] - 281s 342ms/step - loss: 11.0748 - mae: 2.5757 - val_loss: 9.4328 - val_mae: 2.4179\n",
            "Epoch 38/50\n",
            "819/819 [==============================] - 280s 341ms/step - loss: 11.0969 - mae: 2.5780 - val_loss: 9.7018 - val_mae: 2.4530\n",
            "Epoch 39/50\n",
            "819/819 [==============================] - 278s 339ms/step - loss: 11.0023 - mae: 2.5664 - val_loss: 9.6441 - val_mae: 2.4397\n",
            "Epoch 40/50\n",
            "819/819 [==============================] - 281s 342ms/step - loss: 10.9260 - mae: 2.5610 - val_loss: 9.8655 - val_mae: 2.4784\n",
            "Epoch 41/50\n",
            "819/819 [==============================] - 281s 343ms/step - loss: 10.9366 - mae: 2.5599 - val_loss: 9.5502 - val_mae: 2.4357\n",
            "Epoch 42/50\n",
            "819/819 [==============================] - 282s 344ms/step - loss: 10.8800 - mae: 2.5544 - val_loss: 10.4887 - val_mae: 2.5626\n",
            "Epoch 43/50\n",
            "819/819 [==============================] - 275s 335ms/step - loss: 10.8999 - mae: 2.5567 - val_loss: 10.4525 - val_mae: 2.5564\n",
            "Epoch 44/50\n",
            "819/819 [==============================] - 278s 339ms/step - loss: 10.8479 - mae: 2.5488 - val_loss: 9.9947 - val_mae: 2.4923\n",
            "Epoch 45/50\n",
            "819/819 [==============================] - 272s 332ms/step - loss: 10.8615 - mae: 2.5519 - val_loss: 10.1123 - val_mae: 2.5065\n",
            "Epoch 46/50\n",
            "819/819 [==============================] - 278s 340ms/step - loss: 10.7583 - mae: 2.5395 - val_loss: 9.7395 - val_mae: 2.4600\n",
            "Epoch 47/50\n",
            "819/819 [==============================] - 279s 341ms/step - loss: 10.7628 - mae: 2.5376 - val_loss: 10.6120 - val_mae: 2.5796\n",
            "Epoch 48/50\n",
            "819/819 [==============================] - 276s 337ms/step - loss: 10.7417 - mae: 2.5359 - val_loss: 9.7916 - val_mae: 2.4617\n",
            "Epoch 49/50\n",
            "819/819 [==============================] - 268s 327ms/step - loss: 10.7369 - mae: 2.5366 - val_loss: 9.7903 - val_mae: 2.4593\n",
            "Epoch 50/50\n",
            "819/819 [==============================] - 277s 338ms/step - loss: 10.7368 - mae: 2.5303 - val_loss: 10.0553 - val_mae: 2.5105\n",
            "405/405 [==============================] - 38s 90ms/step - loss: 9.8291 - mae: 2.4578\n",
            "Test MAE: 2.46\n"
          ]
        }
      ]
    },
    {
      "cell_type": "code",
      "source": [
        "import matplotlib.pyplot as plt\n",
        "loss = history.history[\"mae\"]\n",
        "val_loss = history.history[\"val_mae\"]\n",
        "epochs = range(1, len(loss) + 1)\n",
        "plt.figure()\n",
        "plt.plot(epochs, loss, \"bo\", label=\"Training MAE-Fewer Units\")\n",
        "plt.plot(epochs, val_loss, \"b\", label=\"Validation MAE-Fewer Units\")\n",
        "plt.title(\"Training and validation MAE-Fewer Units\")\n",
        "plt.legend()\n",
        "plt.show()"
      ],
      "metadata": {
        "colab": {
          "base_uri": "https://localhost:8080/",
          "height": 452
        },
        "id": "7tcwknwZ6OQo",
        "outputId": "89d6ac88-9a12-4bb2-e132-edc3522bc107"
      },
      "execution_count": null,
      "outputs": [
        {
          "output_type": "display_data",
          "data": {
            "text/plain": [
              "<Figure size 640x480 with 1 Axes>"
            ],
            "image/png": "[encoded data removed]"
          },
          "metadata": {}
        }
      ]
    },
    {
      "cell_type": "markdown",
      "source": [
        "Having more units in the recurrent layers"
      ],
      "metadata": {
        "id": "Wd7w04rMY5D-"
      }
    },
    {
      "cell_type": "code",
      "source": [
        "from tensorflow import keras\n",
        "from tensorflow.keras import layers\n",
        "inputs = keras.Input(shape=(sequence_length, raw_data.shape[-1]))\n",
        "x = layers.GRU(50, recurrent_dropout=0.5, return_sequences=True)(inputs)\n",
        "x = layers.GRU(50, recurrent_dropout=0.5)(x)\n",
        "x = layers.Dropout(0.5)(x)\n",
        "outputs = layers.Dense(1)(x)\n",
        "model = keras.Model(inputs, outputs)\n",
        "\n",
        "callbacks = [\n",
        "    keras.callbacks.ModelCheckpoint(\"jena_stacked_gru_dropout_more_units.keras\",\n",
        "                                    save_best_only=True)\n",
        "]\n",
        "model.compile(optimizer=\"rmsprop\", loss=\"mse\", metrics=[\"mae\"])\n",
        "history = model.fit(train_dataset,\n",
        "                    epochs=50,\n",
        "                    validation_data=val_dataset,\n",
        "                    callbacks=callbacks)\n",
        "model = keras.models.load_model(\"jena_stacked_gru_dropout_more_units.keras\")\n",
        "print(f\"Test MAE: {model.evaluate(test_dataset)[1]:.2f}\")"
      ],
      "metadata": {
        "colab": {
          "base_uri": "https://localhost:8080/",
          "height": 1000
        },
        "id": "1pbyAJhHvhWR",
        "outputId": "acf3d611-51f1-41e3-aa79-6430582f7c35"
      },
      "execution_count": null,
      "outputs": [
        {
          "output_type": "stream",
          "name": "stdout",
          "text": [
            "Epoch 1/50\n",
            "819/819 [==============================] - 473s 571ms/step - loss: 18.9867 - mae: 3.2584 - val_loss: 9.5985 - val_mae: 2.4076\n",
            "Epoch 2/50\n",
            "819/819 [==============================] - 461s 563ms/step - loss: 12.2800 - mae: 2.7281 - val_loss: 9.2142 - val_mae: 2.3419\n",
            "Epoch 3/50\n",
            "819/819 [==============================] - 460s 562ms/step - loss: 11.5844 - mae: 2.6510 - val_loss: 8.6880 - val_mae: 2.2992\n",
            "Epoch 4/50\n",
            "819/819 [==============================] - 463s 564ms/step - loss: 10.8929 - mae: 2.5688 - val_loss: 8.7171 - val_mae: 2.2902\n",
            "Epoch 5/50\n",
            "819/819 [==============================] - 467s 569ms/step - loss: 10.3348 - mae: 2.5041 - val_loss: 9.2715 - val_mae: 2.3629\n",
            "Epoch 6/50\n",
            "819/819 [==============================] - 462s 564ms/step - loss: 9.8258 - mae: 2.4395 - val_loss: 9.3657 - val_mae: 2.3999\n",
            "Epoch 7/50\n",
            "819/819 [==============================] - 464s 566ms/step - loss: 9.3191 - mae: 2.3747 - val_loss: 9.7394 - val_mae: 2.4372\n",
            "Epoch 8/50\n",
            "819/819 [==============================] - 462s 563ms/step - loss: 8.8324 - mae: 2.3116 - val_loss: 9.7395 - val_mae: 2.4448\n",
            "Epoch 9/50\n",
            "819/819 [==============================] - 464s 567ms/step - loss: 8.4382 - mae: 2.2622 - val_loss: 9.9229 - val_mae: 2.4718\n",
            "Epoch 10/50\n",
            "819/819 [==============================] - 462s 564ms/step - loss: 8.1024 - mae: 2.2120 - val_loss: 10.2205 - val_mae: 2.4881\n",
            "Epoch 11/50\n",
            "819/819 [==============================] - 461s 563ms/step - loss: 7.7589 - mae: 2.1630 - val_loss: 10.3828 - val_mae: 2.5245\n",
            "Epoch 12/50\n",
            "819/819 [==============================] - 463s 565ms/step - loss: 7.4893 - mae: 2.1219 - val_loss: 10.9506 - val_mae: 2.5871\n",
            "Epoch 13/50\n",
            "819/819 [==============================] - 464s 566ms/step - loss: 7.2466 - mae: 2.0860 - val_loss: 11.3373 - val_mae: 2.6264\n",
            "Epoch 14/50\n",
            "819/819 [==============================] - 465s 567ms/step - loss: 6.9915 - mae: 2.0507 - val_loss: 10.9605 - val_mae: 2.5838\n",
            "Epoch 15/50\n",
            "819/819 [==============================] - 462s 564ms/step - loss: 6.7276 - mae: 2.0100 - val_loss: 10.9677 - val_mae: 2.5808\n",
            "Epoch 16/50\n",
            "819/819 [==============================] - 433s 528ms/step - loss: 6.6094 - mae: 1.9930 - val_loss: 11.4921 - val_mae: 2.6378\n",
            "Epoch 17/50\n",
            "819/819 [==============================] - 461s 563ms/step - loss: 6.4528 - mae: 1.9671 - val_loss: 11.7219 - val_mae: 2.6624\n",
            "Epoch 18/50\n",
            "819/819 [==============================] - 433s 529ms/step - loss: 6.2809 - mae: 1.9423 - val_loss: 12.0843 - val_mae: 2.6878\n",
            "Epoch 19/50\n",
            "819/819 [==============================] - 459s 560ms/step - loss: 6.1499 - mae: 1.9202 - val_loss: 11.6726 - val_mae: 2.6567\n",
            "Epoch 20/50\n",
            "819/819 [==============================] - 466s 568ms/step - loss: 6.0571 - mae: 1.9082 - val_loss: 11.5923 - val_mae: 2.6540\n",
            "Epoch 21/50\n",
            "819/819 [==============================] - 461s 562ms/step - loss: 5.9419 - mae: 1.8878 - val_loss: 11.5086 - val_mae: 2.6471\n",
            "Epoch 22/50\n",
            "819/819 [==============================] - 461s 563ms/step - loss: 5.8632 - mae: 1.8747 - val_loss: 11.8005 - val_mae: 2.6823\n",
            "Epoch 23/50\n",
            "819/819 [==============================] - 429s 524ms/step - loss: 5.7604 - mae: 1.8578 - val_loss: 12.0414 - val_mae: 2.6910\n",
            "Epoch 24/50\n",
            "819/819 [==============================] - 434s 529ms/step - loss: 5.6928 - mae: 1.8466 - val_loss: 11.6321 - val_mae: 2.6439\n",
            "Epoch 25/50\n",
            "819/819 [==============================] - 432s 527ms/step - loss: 5.6244 - mae: 1.8352 - val_loss: 11.9096 - val_mae: 2.6947\n",
            "Epoch 26/50\n",
            "819/819 [==============================] - 462s 564ms/step - loss: 5.5225 - mae: 1.8226 - val_loss: 11.9715 - val_mae: 2.6838\n",
            "Epoch 27/50\n",
            "819/819 [==============================] - 461s 563ms/step - loss: 5.4603 - mae: 1.8117 - val_loss: 12.1709 - val_mae: 2.6990\n",
            "Epoch 28/50\n",
            "819/819 [==============================] - 461s 562ms/step - loss: 5.4215 - mae: 1.8035 - val_loss: 12.0714 - val_mae: 2.6998\n",
            "Epoch 29/50\n",
            "819/819 [==============================] - 460s 562ms/step - loss: 5.3727 - mae: 1.7923 - val_loss: 12.1768 - val_mae: 2.6971\n",
            "Epoch 30/50\n",
            "819/819 [==============================] - 460s 561ms/step - loss: 5.2880 - mae: 1.7801 - val_loss: 12.2960 - val_mae: 2.7232\n",
            "Epoch 31/50\n",
            "819/819 [==============================] - 459s 560ms/step - loss: 5.2597 - mae: 1.7750 - val_loss: 12.9472 - val_mae: 2.7984\n",
            "Epoch 32/50\n",
            "819/819 [==============================] - 460s 562ms/step - loss: 5.2428 - mae: 1.7737 - val_loss: 12.4535 - val_mae: 2.7400\n",
            "Epoch 33/50\n",
            "819/819 [==============================] - 461s 562ms/step - loss: 5.1723 - mae: 1.7630 - val_loss: 12.3205 - val_mae: 2.7078\n",
            "Epoch 34/50\n",
            "819/819 [==============================] - 459s 560ms/step - loss: 5.1286 - mae: 1.7536 - val_loss: 12.3446 - val_mae: 2.7171\n",
            "Epoch 35/50\n",
            "819/819 [==============================] - 430s 525ms/step - loss: 5.1002 - mae: 1.7477 - val_loss: 12.2458 - val_mae: 2.7144\n",
            "Epoch 36/50\n",
            "819/819 [==============================] - 461s 562ms/step - loss: 5.0780 - mae: 1.7432 - val_loss: 12.3656 - val_mae: 2.7321\n",
            "Epoch 37/50\n",
            "819/819 [==============================] - 463s 565ms/step - loss: 5.0177 - mae: 1.7310 - val_loss: 12.2862 - val_mae: 2.7101\n",
            "Epoch 38/50\n",
            "819/819 [==============================] - 461s 562ms/step - loss: 5.0055 - mae: 1.7308 - val_loss: 12.4231 - val_mae: 2.7305\n",
            "Epoch 39/50\n",
            "819/819 [==============================] - 430s 525ms/step - loss: 4.9465 - mae: 1.7221 - val_loss: 13.0634 - val_mae: 2.7918\n",
            "Epoch 40/50\n",
            "819/819 [==============================] - 461s 562ms/step - loss: 4.9026 - mae: 1.7146 - val_loss: 12.6008 - val_mae: 2.7536\n",
            "Epoch 41/50\n",
            "819/819 [==============================] - 461s 562ms/step - loss: 4.8938 - mae: 1.7114 - val_loss: 12.4419 - val_mae: 2.7374\n",
            "Epoch 42/50\n",
            "819/819 [==============================] - 459s 560ms/step - loss: 4.8570 - mae: 1.7059 - val_loss: 12.6456 - val_mae: 2.7630\n",
            "Epoch 43/50\n",
            "819/819 [==============================] - 437s 534ms/step - loss: 4.8279 - mae: 1.6998 - val_loss: 12.4807 - val_mae: 2.7423\n",
            "Epoch 44/50\n",
            "819/819 [==============================] - 486s 593ms/step - loss: 4.8123 - mae: 1.6973 - val_loss: 12.7941 - val_mae: 2.7764\n",
            "Epoch 45/50\n",
            "819/819 [==============================] - 460s 562ms/step - loss: 4.7877 - mae: 1.6917 - val_loss: 12.7610 - val_mae: 2.7766\n",
            "Epoch 46/50\n",
            "819/819 [==============================] - 428s 522ms/step - loss: 4.7536 - mae: 1.6880 - val_loss: 12.7835 - val_mae: 2.7781\n",
            "Epoch 47/50\n",
            "819/819 [==============================] - 463s 565ms/step - loss: 4.7238 - mae: 1.6788 - val_loss: 12.8591 - val_mae: 2.7746\n",
            "Epoch 48/50\n",
            "819/819 [==============================] - 460s 561ms/step - loss: 4.7095 - mae: 1.6778 - val_loss: 12.7419 - val_mae: 2.7717\n",
            "Epoch 49/50\n",
            "819/819 [==============================] - 459s 560ms/step - loss: 4.6804 - mae: 1.6727 - val_loss: 13.1089 - val_mae: 2.8337\n",
            "Epoch 50/50\n",
            "819/819 [==============================] - 458s 559ms/step - loss: 4.6720 - mae: 1.6720 - val_loss: 12.3908 - val_mae: 2.7377\n"
          ]
        },
        {
          "output_type": "error",
          "ename": "OSError",
          "evalue": "No file or directory found at jena_stacked_gru_dropout.keras",
          "traceback": [
            "\u001b[0;31m---------------------------------------------------------------------------\u001b[0m",
            "\u001b[0;31mOSError\u001b[0m                                   Traceback (most recent call last)",
            "\u001b[0;32m<ipython-input-10-a9776242f1be>\u001b[0m in \u001b[0;36m<cell line: 19>\u001b[0;34m()\u001b[0m\n\u001b[1;32m     17\u001b[0m                     \u001b[0mvalidation_data\u001b[0m\u001b[0;34m=\u001b[0m\u001b[0mval_dataset\u001b[0m\u001b[0;34m,\u001b[0m\u001b[0;34m\u001b[0m\u001b[0;34m\u001b[0m\u001b[0m\n\u001b[1;32m     18\u001b[0m                     callbacks=callbacks)\n\u001b[0;32m---> 19\u001b[0;31m \u001b[0mmodel\u001b[0m \u001b[0;34m=\u001b[0m \u001b[0mkeras\u001b[0m\u001b[0;34m.\u001b[0m\u001b[0mmodels\u001b[0m\u001b[0;34m.\u001b[0m\u001b[0mload_model\u001b[0m\u001b[0;34m(\u001b[0m\u001b[0;34m\"jena_stacked_gru_dropout.keras\"\u001b[0m\u001b[0;34m)\u001b[0m\u001b[0;34m\u001b[0m\u001b[0;34m\u001b[0m\u001b[0m\n\u001b[0m\u001b[1;32m     20\u001b[0m \u001b[0mprint\u001b[0m\u001b[0;34m(\u001b[0m\u001b[0;34mf\"Test MAE: {model.evaluate(test_dataset)[1]:.2f}\"\u001b[0m\u001b[0;34m)\u001b[0m\u001b[0;34m\u001b[0m\u001b[0;34m\u001b[0m\u001b[0m\n",
            "\u001b[0;32m/usr/local/lib/python3.10/dist-packages/keras/src/saving/saving_api.py\u001b[0m in \u001b[0;36mload_model\u001b[0;34m(filepath, custom_objects, compile, safe_mode, **kwargs)\u001b[0m\n\u001b[1;32m    260\u001b[0m \u001b[0;34m\u001b[0m\u001b[0m\n\u001b[1;32m    261\u001b[0m     \u001b[0;31m# Legacy case.\u001b[0m\u001b[0;34m\u001b[0m\u001b[0;34m\u001b[0m\u001b[0m\n\u001b[0;32m--> 262\u001b[0;31m     return legacy_sm_saving_lib.load_model(\n\u001b[0m\u001b[1;32m    263\u001b[0m         \u001b[0mfilepath\u001b[0m\u001b[0;34m,\u001b[0m \u001b[0mcustom_objects\u001b[0m\u001b[0;34m=\u001b[0m\u001b[0mcustom_objects\u001b[0m\u001b[0;34m,\u001b[0m \u001b[0mcompile\u001b[0m\u001b[0;34m=\u001b[0m\u001b[0mcompile\u001b[0m\u001b[0;34m,\u001b[0m \u001b[0;34m**\u001b[0m\u001b[0mkwargs\u001b[0m\u001b[0;34m\u001b[0m\u001b[0;34m\u001b[0m\u001b[0m\n\u001b[1;32m    264\u001b[0m     )\n",
            "\u001b[0;32m/usr/local/lib/python3.10/dist-packages/keras/src/utils/traceback_utils.py\u001b[0m in \u001b[0;36merror_handler\u001b[0;34m(*args, **kwargs)\u001b[0m\n\u001b[1;32m     68\u001b[0m             \u001b[0;31m# To get the full stack trace, call:\u001b[0m\u001b[0;34m\u001b[0m\u001b[0;34m\u001b[0m\u001b[0m\n\u001b[1;32m     69\u001b[0m             \u001b[0;31m# `tf.debugging.disable_traceback_filtering()`\u001b[0m\u001b[0;34m\u001b[0m\u001b[0;34m\u001b[0m\u001b[0m\n\u001b[0;32m---> 70\u001b[0;31m             \u001b[0;32mraise\u001b[0m \u001b[0me\u001b[0m\u001b[0;34m.\u001b[0m\u001b[0mwith_traceback\u001b[0m\u001b[0;34m(\u001b[0m\u001b[0mfiltered_tb\u001b[0m\u001b[0;34m)\u001b[0m \u001b[0;32mfrom\u001b[0m \u001b[0;32mNone\u001b[0m\u001b[0;34m\u001b[0m\u001b[0;34m\u001b[0m\u001b[0m\n\u001b[0m\u001b[1;32m     71\u001b[0m         \u001b[0;32mfinally\u001b[0m\u001b[0;34m:\u001b[0m\u001b[0;34m\u001b[0m\u001b[0;34m\u001b[0m\u001b[0m\n\u001b[1;32m     72\u001b[0m             \u001b[0;32mdel\u001b[0m \u001b[0mfiltered_tb\u001b[0m\u001b[0;34m\u001b[0m\u001b[0;34m\u001b[0m\u001b[0m\n",
            "\u001b[0;32m/usr/local/lib/python3.10/dist-packages/keras/src/saving/legacy/save.py\u001b[0m in \u001b[0;36mload_model\u001b[0;34m(filepath, custom_objects, compile, options)\u001b[0m\n\u001b[1;32m    232\u001b[0m                     \u001b[0;32mif\u001b[0m \u001b[0misinstance\u001b[0m\u001b[0;34m(\u001b[0m\u001b[0mfilepath_str\u001b[0m\u001b[0;34m,\u001b[0m \u001b[0mstr\u001b[0m\u001b[0;34m)\u001b[0m\u001b[0;34m:\u001b[0m\u001b[0;34m\u001b[0m\u001b[0;34m\u001b[0m\u001b[0m\n\u001b[1;32m    233\u001b[0m                         \u001b[0;32mif\u001b[0m \u001b[0;32mnot\u001b[0m \u001b[0mtf\u001b[0m\u001b[0;34m.\u001b[0m\u001b[0mio\u001b[0m\u001b[0;34m.\u001b[0m\u001b[0mgfile\u001b[0m\u001b[0;34m.\u001b[0m\u001b[0mexists\u001b[0m\u001b[0;34m(\u001b[0m\u001b[0mfilepath_str\u001b[0m\u001b[0;34m)\u001b[0m\u001b[0;34m:\u001b[0m\u001b[0;34m\u001b[0m\u001b[0;34m\u001b[0m\u001b[0m\n\u001b[0;32m--> 234\u001b[0;31m                             raise IOError(\n\u001b[0m\u001b[1;32m    235\u001b[0m                                 \u001b[0;34mf\"No file or directory found at {filepath_str}\"\u001b[0m\u001b[0;34m\u001b[0m\u001b[0;34m\u001b[0m\u001b[0m\n\u001b[1;32m    236\u001b[0m                             )\n",
            "\u001b[0;31mOSError\u001b[0m: No file or directory found at jena_stacked_gru_dropout.keras"
          ]
        }
      ]
    },
    {
      "cell_type": "code",
      "source": [
        "from tensorflow import keras\n",
        "from tensorflow.keras import layers\n",
        "model = keras.models.load_model(\"jena_stacked_gru_dropout_more_units.keras\")\n",
        "print(f\"Test MAE: {model.evaluate(test_dataset)[1]:.2f}\")"
      ],
      "metadata": {
        "colab": {
          "base_uri": "https://localhost:8080/",
          "height": 339
        },
        "id": "2W3oRCfL6qlw",
        "outputId": "506c0783-3923-45ec-b04a-e80f7dd6ea38"
      },
      "execution_count": 3,
      "outputs": [
        {
          "output_type": "error",
          "ename": "OSError",
          "evalue": "No file or directory found at jena_stacked_gru_dropout_more_units.keras",
          "traceback": [
            "\u001b[0;31m---------------------------------------------------------------------------\u001b[0m",
            "\u001b[0;31mOSError\u001b[0m                                   Traceback (most recent call last)",
            "\u001b[0;32m<ipython-input-3-40f0dab765f9>\u001b[0m in \u001b[0;36m<cell line: 3>\u001b[0;34m()\u001b[0m\n\u001b[1;32m      1\u001b[0m \u001b[0;32mfrom\u001b[0m \u001b[0mtensorflow\u001b[0m \u001b[0;32mimport\u001b[0m \u001b[0mkeras\u001b[0m\u001b[0;34m\u001b[0m\u001b[0;34m\u001b[0m\u001b[0m\n\u001b[1;32m      2\u001b[0m \u001b[0;32mfrom\u001b[0m \u001b[0mtensorflow\u001b[0m\u001b[0;34m.\u001b[0m\u001b[0mkeras\u001b[0m \u001b[0;32mimport\u001b[0m \u001b[0mlayers\u001b[0m\u001b[0;34m\u001b[0m\u001b[0;34m\u001b[0m\u001b[0m\n\u001b[0;32m----> 3\u001b[0;31m \u001b[0mmodel\u001b[0m \u001b[0;34m=\u001b[0m \u001b[0mkeras\u001b[0m\u001b[0;34m.\u001b[0m\u001b[0mmodels\u001b[0m\u001b[0;34m.\u001b[0m\u001b[0mload_model\u001b[0m\u001b[0;34m(\u001b[0m\u001b[0;34m\"jena_stacked_gru_dropout_more_units.keras\"\u001b[0m\u001b[0;34m)\u001b[0m\u001b[0;34m\u001b[0m\u001b[0;34m\u001b[0m\u001b[0m\n\u001b[0m\u001b[1;32m      4\u001b[0m \u001b[0mprint\u001b[0m\u001b[0;34m(\u001b[0m\u001b[0;34mf\"Test MAE: {model.evaluate(test_dataset)[1]:.2f}\"\u001b[0m\u001b[0;34m)\u001b[0m\u001b[0;34m\u001b[0m\u001b[0;34m\u001b[0m\u001b[0m\n",
            "\u001b[0;32m/usr/local/lib/python3.10/dist-packages/keras/src/saving/saving_api.py\u001b[0m in \u001b[0;36mload_model\u001b[0;34m(filepath, custom_objects, compile, safe_mode, **kwargs)\u001b[0m\n\u001b[1;32m    260\u001b[0m \u001b[0;34m\u001b[0m\u001b[0m\n\u001b[1;32m    261\u001b[0m     \u001b[0;31m# Legacy case.\u001b[0m\u001b[0;34m\u001b[0m\u001b[0;34m\u001b[0m\u001b[0m\n\u001b[0;32m--> 262\u001b[0;31m     return legacy_sm_saving_lib.load_model(\n\u001b[0m\u001b[1;32m    263\u001b[0m         \u001b[0mfilepath\u001b[0m\u001b[0;34m,\u001b[0m \u001b[0mcustom_objects\u001b[0m\u001b[0;34m=\u001b[0m\u001b[0mcustom_objects\u001b[0m\u001b[0;34m,\u001b[0m \u001b[0mcompile\u001b[0m\u001b[0;34m=\u001b[0m\u001b[0mcompile\u001b[0m\u001b[0;34m,\u001b[0m \u001b[0;34m**\u001b[0m\u001b[0mkwargs\u001b[0m\u001b[0;34m\u001b[0m\u001b[0;34m\u001b[0m\u001b[0m\n\u001b[1;32m    264\u001b[0m     )\n",
            "\u001b[0;32m/usr/local/lib/python3.10/dist-packages/keras/src/utils/traceback_utils.py\u001b[0m in \u001b[0;36merror_handler\u001b[0;34m(*args, **kwargs)\u001b[0m\n\u001b[1;32m     68\u001b[0m             \u001b[0;31m# To get the full stack trace, call:\u001b[0m\u001b[0;34m\u001b[0m\u001b[0;34m\u001b[0m\u001b[0m\n\u001b[1;32m     69\u001b[0m             \u001b[0;31m# `tf.debugging.disable_traceback_filtering()`\u001b[0m\u001b[0;34m\u001b[0m\u001b[0;34m\u001b[0m\u001b[0m\n\u001b[0;32m---> 70\u001b[0;31m             \u001b[0;32mraise\u001b[0m \u001b[0me\u001b[0m\u001b[0;34m.\u001b[0m\u001b[0mwith_traceback\u001b[0m\u001b[0;34m(\u001b[0m\u001b[0mfiltered_tb\u001b[0m\u001b[0;34m)\u001b[0m \u001b[0;32mfrom\u001b[0m \u001b[0;32mNone\u001b[0m\u001b[0;34m\u001b[0m\u001b[0;34m\u001b[0m\u001b[0m\n\u001b[0m\u001b[1;32m     71\u001b[0m         \u001b[0;32mfinally\u001b[0m\u001b[0;34m:\u001b[0m\u001b[0;34m\u001b[0m\u001b[0;34m\u001b[0m\u001b[0m\n\u001b[1;32m     72\u001b[0m             \u001b[0;32mdel\u001b[0m \u001b[0mfiltered_tb\u001b[0m\u001b[0;34m\u001b[0m\u001b[0;34m\u001b[0m\u001b[0m\n",
            "\u001b[0;32m/usr/local/lib/python3.10/dist-packages/keras/src/saving/legacy/save.py\u001b[0m in \u001b[0;36mload_model\u001b[0;34m(filepath, custom_objects, compile, options)\u001b[0m\n\u001b[1;32m    232\u001b[0m                     \u001b[0;32mif\u001b[0m \u001b[0misinstance\u001b[0m\u001b[0;34m(\u001b[0m\u001b[0mfilepath_str\u001b[0m\u001b[0;34m,\u001b[0m \u001b[0mstr\u001b[0m\u001b[0;34m)\u001b[0m\u001b[0;34m:\u001b[0m\u001b[0;34m\u001b[0m\u001b[0;34m\u001b[0m\u001b[0m\n\u001b[1;32m    233\u001b[0m                         \u001b[0;32mif\u001b[0m \u001b[0;32mnot\u001b[0m \u001b[0mtf\u001b[0m\u001b[0;34m.\u001b[0m\u001b[0mio\u001b[0m\u001b[0;34m.\u001b[0m\u001b[0mgfile\u001b[0m\u001b[0;34m.\u001b[0m\u001b[0mexists\u001b[0m\u001b[0;34m(\u001b[0m\u001b[0mfilepath_str\u001b[0m\u001b[0;34m)\u001b[0m\u001b[0;34m:\u001b[0m\u001b[0;34m\u001b[0m\u001b[0;34m\u001b[0m\u001b[0m\n\u001b[0;32m--> 234\u001b[0;31m                             raise IOError(\n\u001b[0m\u001b[1;32m    235\u001b[0m                                 \u001b[0;34mf\"No file or directory found at {filepath_str}\"\u001b[0m\u001b[0;34m\u001b[0m\u001b[0;34m\u001b[0m\u001b[0m\n\u001b[1;32m    236\u001b[0m                             )\n",
            "\u001b[0;31mOSError\u001b[0m: No file or directory found at jena_stacked_gru_dropout_more_units.keras"
          ]
        }
      ]
    },
    {
      "cell_type": "code",
      "source": [
        "import matplotlib.pyplot as plt\n",
        "loss = history.history[\"mae\"]\n",
        "val_loss = history.history[\"val_mae\"]\n",
        "epochs = range(1, len(loss) + 1)\n",
        "plt.figure()\n",
        "plt.plot(epochs, loss, \"bo\", label=\"Training MAE-More Units\")\n",
        "plt.plot(epochs, val_loss, \"b\", label=\"Validation MAE-More Units\")\n",
        "plt.title(\"Training and validation MAE-More Units\")\n",
        "plt.legend()\n",
        "plt.show()"
      ],
      "metadata": {
        "id": "gdsjFg1FXd1Q"
      },
      "execution_count": null,
      "outputs": []
    },
    {
      "cell_type": "markdown",
      "source": [
        "Using LSTM instead of GRU"
      ],
      "metadata": {
        "id": "l_ztBoLfY8tL"
      }
    },
    {
      "cell_type": "markdown",
      "source": [
        "Combining 1D ConvNet and RNN"
      ],
      "metadata": {
        "id": "3-gyo41tY_cZ"
      }
    },
    {
      "cell_type": "code",
      "source": [],
      "metadata": {
        "id": "Saz7ouUvHiZT"
      },
      "execution_count": null,
      "outputs": []
    }
  ]
}